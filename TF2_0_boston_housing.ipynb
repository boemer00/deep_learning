{
  "nbformat": 4,
  "nbformat_minor": 0,
  "metadata": {
    "colab": {
      "provenance": [],
      "authorship_tag": "ABX9TyM56rPDGknsAtTiuvJPIDOS",
      "include_colab_link": true
    },
    "kernelspec": {
      "name": "python3",
      "display_name": "Python 3"
    },
    "language_info": {
      "name": "python"
    }
  },
  "cells": [
    {
      "cell_type": "markdown",
      "metadata": {
        "id": "view-in-github",
        "colab_type": "text"
      },
      "source": [
        "<a href=\"https://colab.research.google.com/github/boemer00/deep_learning/blob/main/TF2_0_boston_housing.ipynb\" target=\"_parent\"><img src=\"https://colab.research.google.com/assets/colab-badge.svg\" alt=\"Open In Colab\"/></a>"
      ]
    },
    {
      "cell_type": "markdown",
      "source": [
        "# Part 1: Load Data"
      ],
      "metadata": {
        "id": "sexXzOOKayLP"
      }
    },
    {
      "cell_type": "code",
      "execution_count": 84,
      "metadata": {
        "id": "BXmULrOoZ_JX"
      },
      "outputs": [],
      "source": [
        "import numpy as np\n",
        "import pandas as pd\n",
        "import seaborn as sns\n",
        "import matplotlib.pyplot as plt"
      ]
    },
    {
      "cell_type": "code",
      "source": [
        "url = 'https://archive.ics.uci.edu/ml/machine-learning-databases/housing/housing.data'\n",
        "col_names = ['CRIM', 'ZN', 'INDUS', 'CHAS', 'NOX', 'RM', 'AGE', 'DIS', 'RAD', 'TAX', 'PTRATIO', 'B', 'LSTAT', 'MEDV']\n",
        "df = pd.read_csv(url, delim_whitespace=True, names=col_names)\n"
      ],
      "metadata": {
        "id": "t14Vkujpa4-8"
      },
      "execution_count": 85,
      "outputs": []
    },
    {
      "cell_type": "code",
      "source": [
        "df.head()"
      ],
      "metadata": {
        "colab": {
          "base_uri": "https://localhost:8080/",
          "height": 206
        },
        "id": "7aBjpiH6feWG",
        "outputId": "c3a5a0e7-915f-4201-96bf-fe62ab767932"
      },
      "execution_count": 86,
      "outputs": [
        {
          "output_type": "execute_result",
          "data": {
            "text/plain": [
              "      CRIM    ZN  INDUS  CHAS    NOX     RM   AGE     DIS  RAD    TAX  \\\n",
              "0  0.00632  18.0   2.31     0  0.538  6.575  65.2  4.0900    1  296.0   \n",
              "1  0.02731   0.0   7.07     0  0.469  6.421  78.9  4.9671    2  242.0   \n",
              "2  0.02729   0.0   7.07     0  0.469  7.185  61.1  4.9671    2  242.0   \n",
              "3  0.03237   0.0   2.18     0  0.458  6.998  45.8  6.0622    3  222.0   \n",
              "4  0.06905   0.0   2.18     0  0.458  7.147  54.2  6.0622    3  222.0   \n",
              "\n",
              "   PTRATIO       B  LSTAT  MEDV  \n",
              "0     15.3  396.90   4.98  24.0  \n",
              "1     17.8  396.90   9.14  21.6  \n",
              "2     17.8  392.83   4.03  34.7  \n",
              "3     18.7  394.63   2.94  33.4  \n",
              "4     18.7  396.90   5.33  36.2  "
            ],
            "text/html": [
              "\n",
              "\n",
              "  <div id=\"df-a5150854-7138-4ffd-80dc-1fd94dfc7f1a\">\n",
              "    <div class=\"colab-df-container\">\n",
              "      <div>\n",
              "<style scoped>\n",
              "    .dataframe tbody tr th:only-of-type {\n",
              "        vertical-align: middle;\n",
              "    }\n",
              "\n",
              "    .dataframe tbody tr th {\n",
              "        vertical-align: top;\n",
              "    }\n",
              "\n",
              "    .dataframe thead th {\n",
              "        text-align: right;\n",
              "    }\n",
              "</style>\n",
              "<table border=\"1\" class=\"dataframe\">\n",
              "  <thead>\n",
              "    <tr style=\"text-align: right;\">\n",
              "      <th></th>\n",
              "      <th>CRIM</th>\n",
              "      <th>ZN</th>\n",
              "      <th>INDUS</th>\n",
              "      <th>CHAS</th>\n",
              "      <th>NOX</th>\n",
              "      <th>RM</th>\n",
              "      <th>AGE</th>\n",
              "      <th>DIS</th>\n",
              "      <th>RAD</th>\n",
              "      <th>TAX</th>\n",
              "      <th>PTRATIO</th>\n",
              "      <th>B</th>\n",
              "      <th>LSTAT</th>\n",
              "      <th>MEDV</th>\n",
              "    </tr>\n",
              "  </thead>\n",
              "  <tbody>\n",
              "    <tr>\n",
              "      <th>0</th>\n",
              "      <td>0.00632</td>\n",
              "      <td>18.0</td>\n",
              "      <td>2.31</td>\n",
              "      <td>0</td>\n",
              "      <td>0.538</td>\n",
              "      <td>6.575</td>\n",
              "      <td>65.2</td>\n",
              "      <td>4.0900</td>\n",
              "      <td>1</td>\n",
              "      <td>296.0</td>\n",
              "      <td>15.3</td>\n",
              "      <td>396.90</td>\n",
              "      <td>4.98</td>\n",
              "      <td>24.0</td>\n",
              "    </tr>\n",
              "    <tr>\n",
              "      <th>1</th>\n",
              "      <td>0.02731</td>\n",
              "      <td>0.0</td>\n",
              "      <td>7.07</td>\n",
              "      <td>0</td>\n",
              "      <td>0.469</td>\n",
              "      <td>6.421</td>\n",
              "      <td>78.9</td>\n",
              "      <td>4.9671</td>\n",
              "      <td>2</td>\n",
              "      <td>242.0</td>\n",
              "      <td>17.8</td>\n",
              "      <td>396.90</td>\n",
              "      <td>9.14</td>\n",
              "      <td>21.6</td>\n",
              "    </tr>\n",
              "    <tr>\n",
              "      <th>2</th>\n",
              "      <td>0.02729</td>\n",
              "      <td>0.0</td>\n",
              "      <td>7.07</td>\n",
              "      <td>0</td>\n",
              "      <td>0.469</td>\n",
              "      <td>7.185</td>\n",
              "      <td>61.1</td>\n",
              "      <td>4.9671</td>\n",
              "      <td>2</td>\n",
              "      <td>242.0</td>\n",
              "      <td>17.8</td>\n",
              "      <td>392.83</td>\n",
              "      <td>4.03</td>\n",
              "      <td>34.7</td>\n",
              "    </tr>\n",
              "    <tr>\n",
              "      <th>3</th>\n",
              "      <td>0.03237</td>\n",
              "      <td>0.0</td>\n",
              "      <td>2.18</td>\n",
              "      <td>0</td>\n",
              "      <td>0.458</td>\n",
              "      <td>6.998</td>\n",
              "      <td>45.8</td>\n",
              "      <td>6.0622</td>\n",
              "      <td>3</td>\n",
              "      <td>222.0</td>\n",
              "      <td>18.7</td>\n",
              "      <td>394.63</td>\n",
              "      <td>2.94</td>\n",
              "      <td>33.4</td>\n",
              "    </tr>\n",
              "    <tr>\n",
              "      <th>4</th>\n",
              "      <td>0.06905</td>\n",
              "      <td>0.0</td>\n",
              "      <td>2.18</td>\n",
              "      <td>0</td>\n",
              "      <td>0.458</td>\n",
              "      <td>7.147</td>\n",
              "      <td>54.2</td>\n",
              "      <td>6.0622</td>\n",
              "      <td>3</td>\n",
              "      <td>222.0</td>\n",
              "      <td>18.7</td>\n",
              "      <td>396.90</td>\n",
              "      <td>5.33</td>\n",
              "      <td>36.2</td>\n",
              "    </tr>\n",
              "  </tbody>\n",
              "</table>\n",
              "</div>\n",
              "      <button class=\"colab-df-convert\" onclick=\"convertToInteractive('df-a5150854-7138-4ffd-80dc-1fd94dfc7f1a')\"\n",
              "              title=\"Convert this dataframe to an interactive table.\"\n",
              "              style=\"display:none;\">\n",
              "\n",
              "  <svg xmlns=\"http://www.w3.org/2000/svg\" height=\"24px\"viewBox=\"0 0 24 24\"\n",
              "       width=\"24px\">\n",
              "    <path d=\"M0 0h24v24H0V0z\" fill=\"none\"/>\n",
              "    <path d=\"M18.56 5.44l.94 2.06.94-2.06 2.06-.94-2.06-.94-.94-2.06-.94 2.06-2.06.94zm-11 1L8.5 8.5l.94-2.06 2.06-.94-2.06-.94L8.5 2.5l-.94 2.06-2.06.94zm10 10l.94 2.06.94-2.06 2.06-.94-2.06-.94-.94-2.06-.94 2.06-2.06.94z\"/><path d=\"M17.41 7.96l-1.37-1.37c-.4-.4-.92-.59-1.43-.59-.52 0-1.04.2-1.43.59L10.3 9.45l-7.72 7.72c-.78.78-.78 2.05 0 2.83L4 21.41c.39.39.9.59 1.41.59.51 0 1.02-.2 1.41-.59l7.78-7.78 2.81-2.81c.8-.78.8-2.07 0-2.86zM5.41 20L4 18.59l7.72-7.72 1.47 1.35L5.41 20z\"/>\n",
              "  </svg>\n",
              "      </button>\n",
              "\n",
              "\n",
              "\n",
              "    <div id=\"df-df011378-cd1e-4f14-b31e-c73acb186e31\">\n",
              "      <button class=\"colab-df-quickchart\" onclick=\"quickchart('df-df011378-cd1e-4f14-b31e-c73acb186e31')\"\n",
              "              title=\"Suggest charts.\"\n",
              "              style=\"display:none;\">\n",
              "\n",
              "<svg xmlns=\"http://www.w3.org/2000/svg\" height=\"24px\"viewBox=\"0 0 24 24\"\n",
              "     width=\"24px\">\n",
              "    <g>\n",
              "        <path d=\"M19 3H5c-1.1 0-2 .9-2 2v14c0 1.1.9 2 2 2h14c1.1 0 2-.9 2-2V5c0-1.1-.9-2-2-2zM9 17H7v-7h2v7zm4 0h-2V7h2v10zm4 0h-2v-4h2v4z\"/>\n",
              "    </g>\n",
              "</svg>\n",
              "      </button>\n",
              "    </div>\n",
              "\n",
              "<style>\n",
              "  .colab-df-quickchart {\n",
              "    background-color: #E8F0FE;\n",
              "    border: none;\n",
              "    border-radius: 50%;\n",
              "    cursor: pointer;\n",
              "    display: none;\n",
              "    fill: #1967D2;\n",
              "    height: 32px;\n",
              "    padding: 0 0 0 0;\n",
              "    width: 32px;\n",
              "  }\n",
              "\n",
              "  .colab-df-quickchart:hover {\n",
              "    background-color: #E2EBFA;\n",
              "    box-shadow: 0px 1px 2px rgba(60, 64, 67, 0.3), 0px 1px 3px 1px rgba(60, 64, 67, 0.15);\n",
              "    fill: #174EA6;\n",
              "  }\n",
              "\n",
              "  [theme=dark] .colab-df-quickchart {\n",
              "    background-color: #3B4455;\n",
              "    fill: #D2E3FC;\n",
              "  }\n",
              "\n",
              "  [theme=dark] .colab-df-quickchart:hover {\n",
              "    background-color: #434B5C;\n",
              "    box-shadow: 0px 1px 3px 1px rgba(0, 0, 0, 0.15);\n",
              "    filter: drop-shadow(0px 1px 2px rgba(0, 0, 0, 0.3));\n",
              "    fill: #FFFFFF;\n",
              "  }\n",
              "</style>\n",
              "\n",
              "    <script>\n",
              "      async function quickchart(key) {\n",
              "        const containerElement = document.querySelector('#' + key);\n",
              "        const charts = await google.colab.kernel.invokeFunction(\n",
              "            'suggestCharts', [key], {});\n",
              "      }\n",
              "    </script>\n",
              "\n",
              "      <script>\n",
              "\n",
              "function displayQuickchartButton(domScope) {\n",
              "  let quickchartButtonEl =\n",
              "    domScope.querySelector('#df-df011378-cd1e-4f14-b31e-c73acb186e31 button.colab-df-quickchart');\n",
              "  quickchartButtonEl.style.display =\n",
              "    google.colab.kernel.accessAllowed ? 'block' : 'none';\n",
              "}\n",
              "\n",
              "        displayQuickchartButton(document);\n",
              "      </script>\n",
              "      <style>\n",
              "    .colab-df-container {\n",
              "      display:flex;\n",
              "      flex-wrap:wrap;\n",
              "      gap: 12px;\n",
              "    }\n",
              "\n",
              "    .colab-df-convert {\n",
              "      background-color: #E8F0FE;\n",
              "      border: none;\n",
              "      border-radius: 50%;\n",
              "      cursor: pointer;\n",
              "      display: none;\n",
              "      fill: #1967D2;\n",
              "      height: 32px;\n",
              "      padding: 0 0 0 0;\n",
              "      width: 32px;\n",
              "    }\n",
              "\n",
              "    .colab-df-convert:hover {\n",
              "      background-color: #E2EBFA;\n",
              "      box-shadow: 0px 1px 2px rgba(60, 64, 67, 0.3), 0px 1px 3px 1px rgba(60, 64, 67, 0.15);\n",
              "      fill: #174EA6;\n",
              "    }\n",
              "\n",
              "    [theme=dark] .colab-df-convert {\n",
              "      background-color: #3B4455;\n",
              "      fill: #D2E3FC;\n",
              "    }\n",
              "\n",
              "    [theme=dark] .colab-df-convert:hover {\n",
              "      background-color: #434B5C;\n",
              "      box-shadow: 0px 1px 3px 1px rgba(0, 0, 0, 0.15);\n",
              "      filter: drop-shadow(0px 1px 2px rgba(0, 0, 0, 0.3));\n",
              "      fill: #FFFFFF;\n",
              "    }\n",
              "  </style>\n",
              "\n",
              "      <script>\n",
              "        const buttonEl =\n",
              "          document.querySelector('#df-a5150854-7138-4ffd-80dc-1fd94dfc7f1a button.colab-df-convert');\n",
              "        buttonEl.style.display =\n",
              "          google.colab.kernel.accessAllowed ? 'block' : 'none';\n",
              "\n",
              "        async function convertToInteractive(key) {\n",
              "          const element = document.querySelector('#df-a5150854-7138-4ffd-80dc-1fd94dfc7f1a');\n",
              "          const dataTable =\n",
              "            await google.colab.kernel.invokeFunction('convertToInteractive',\n",
              "                                                     [key], {});\n",
              "          if (!dataTable) return;\n",
              "\n",
              "          const docLinkHtml = 'Like what you see? Visit the ' +\n",
              "            '<a target=\"_blank\" href=https://colab.research.google.com/notebooks/data_table.ipynb>data table notebook</a>'\n",
              "            + ' to learn more about interactive tables.';\n",
              "          element.innerHTML = '';\n",
              "          dataTable['output_type'] = 'display_data';\n",
              "          await google.colab.output.renderOutput(dataTable, element);\n",
              "          const docLink = document.createElement('div');\n",
              "          docLink.innerHTML = docLinkHtml;\n",
              "          element.appendChild(docLink);\n",
              "        }\n",
              "      </script>\n",
              "    </div>\n",
              "  </div>\n"
            ]
          },
          "metadata": {},
          "execution_count": 86
        }
      ]
    },
    {
      "cell_type": "code",
      "source": [
        "df.info()"
      ],
      "metadata": {
        "colab": {
          "base_uri": "https://localhost:8080/"
        },
        "id": "XlOV_Xxyh884",
        "outputId": "419a1849-0f74-415c-d9b1-86be7f3ba489"
      },
      "execution_count": 87,
      "outputs": [
        {
          "output_type": "stream",
          "name": "stdout",
          "text": [
            "<class 'pandas.core.frame.DataFrame'>\n",
            "RangeIndex: 506 entries, 0 to 505\n",
            "Data columns (total 14 columns):\n",
            " #   Column   Non-Null Count  Dtype  \n",
            "---  ------   --------------  -----  \n",
            " 0   CRIM     506 non-null    float64\n",
            " 1   ZN       506 non-null    float64\n",
            " 2   INDUS    506 non-null    float64\n",
            " 3   CHAS     506 non-null    int64  \n",
            " 4   NOX      506 non-null    float64\n",
            " 5   RM       506 non-null    float64\n",
            " 6   AGE      506 non-null    float64\n",
            " 7   DIS      506 non-null    float64\n",
            " 8   RAD      506 non-null    int64  \n",
            " 9   TAX      506 non-null    float64\n",
            " 10  PTRATIO  506 non-null    float64\n",
            " 11  B        506 non-null    float64\n",
            " 12  LSTAT    506 non-null    float64\n",
            " 13  MEDV     506 non-null    float64\n",
            "dtypes: float64(12), int64(2)\n",
            "memory usage: 55.5 KB\n"
          ]
        }
      ]
    },
    {
      "cell_type": "code",
      "source": [
        "X = df.drop(columns=['MEDV'])\n",
        "\n",
        "y = df['MEDV']"
      ],
      "metadata": {
        "id": "OUevrYlFiBrc"
      },
      "execution_count": 88,
      "outputs": []
    },
    {
      "cell_type": "code",
      "source": [
        "# Define a function to calculate the lower and upper bounds for outliers\n",
        "def outlier_bounds(feature):\n",
        "    Q1 = np.percentile(feature, 25)\n",
        "    Q3 = np.percentile(feature, 75)\n",
        "    IQR = Q3 - Q1\n",
        "    lower_bound = Q1 - 1.5 * IQR\n",
        "    upper_bound = Q3 + 1.5 * IQR\n",
        "    return lower_bound, upper_bound\n",
        "\n",
        "# Apply the function to each column in your dataframe\n",
        "for col in X.columns:\n",
        "    lower_bound, upper_bound = outlier_bounds(X[col])\n",
        "    X[col] = np.where(X[col] > upper_bound, upper_bound, np.where(X[col] < lower_bound, lower_bound, X[col]))"
      ],
      "metadata": {
        "id": "bH-P_z6X8OFO"
      },
      "execution_count": 89,
      "outputs": []
    },
    {
      "cell_type": "code",
      "source": [
        "from sklearn.model_selection import train_test_split\n",
        "\n",
        "X_train, X_test, y_train, y_test = train_test_split(X, y, test_size=0.33)"
      ],
      "metadata": {
        "id": "78gVFnaxiN5y"
      },
      "execution_count": 90,
      "outputs": []
    },
    {
      "cell_type": "code",
      "source": [
        "from sklearn.preprocessing import StandardScaler\n",
        "\n",
        "scaler = StandardScaler()\n",
        "\n",
        "X_train = scaler.fit_transform(X_train)\n",
        "X_test = scaler.transform(X_test)"
      ],
      "metadata": {
        "id": "HRqhejvZhN4X"
      },
      "execution_count": 91,
      "outputs": []
    },
    {
      "cell_type": "code",
      "source": [
        "print(X.shape, y.shape)"
      ],
      "metadata": {
        "colab": {
          "base_uri": "https://localhost:8080/"
        },
        "id": "RZFfzWnWs0QO",
        "outputId": "c7ec5cb8-483e-48e6-ff3f-20db7346f0e5"
      },
      "execution_count": 92,
      "outputs": [
        {
          "output_type": "stream",
          "name": "stdout",
          "text": [
            "(506, 13) (506,)\n"
          ]
        }
      ]
    },
    {
      "cell_type": "markdown",
      "source": [
        "## Part 2: Initialize Model"
      ],
      "metadata": {
        "id": "nyqe6bmVnmnP"
      }
    },
    {
      "cell_type": "code",
      "source": [
        "from keras.models import Sequential\n",
        "from keras.layers import Dense\n",
        "from keras.optimizers import SGD\n",
        "from keras.callbacks import LearningRateScheduler"
      ],
      "metadata": {
        "id": "3rlwYKEjvRYa"
      },
      "execution_count": 93,
      "outputs": []
    },
    {
      "cell_type": "code",
      "source": [
        "def initialize_model():\n",
        "  # architecture\n",
        "  model = Sequential()\n",
        "  model.add(Dense(8, activation='relu', input_shape=(13,)))\n",
        "  model.add(Dense(1, activation='linear'))\n",
        "\n",
        "  # compile\n",
        "  model.compile(loss='mse',\n",
        "                optimizer=SGD(0.001, 0.9))\n",
        "  return model"
      ],
      "metadata": {
        "id": "M822hoVQiuUg"
      },
      "execution_count": 94,
      "outputs": []
    },
    {
      "cell_type": "code",
      "source": [
        "# learning rate scheduler\n",
        "def scheduler(epoch, lr):\n",
        "  if epoch >= 50:\n",
        "    return 0.0001\n",
        "  return 0.001\n",
        "\n",
        "# Create a learning rate scheduler callback\n",
        "lr_scheduler = LearningRateScheduler(scheduler)"
      ],
      "metadata": {
        "id": "QoHsKHu1vNwD"
      },
      "execution_count": 95,
      "outputs": []
    },
    {
      "cell_type": "code",
      "source": [
        "# train the model\n",
        "model = initialize_model()\n",
        "\n",
        "history = model.fit(X_train, y_train,\n",
        "                    epochs=50,\n",
        "                    # callbacks=[lr_scheduler],\n",
        "                    verbose=0)"
      ],
      "metadata": {
        "id": "KZf3V6E9vPeH"
      },
      "execution_count": 96,
      "outputs": []
    },
    {
      "cell_type": "code",
      "source": [
        "def plot_loss(history, title=None):\n",
        "    fig, ax = plt.subplots(figsize=(8,4))\n",
        "\n",
        "    # --- LOSS ---\n",
        "\n",
        "    ax.plot(history.history['loss'])\n",
        "\n",
        "    ax.set_ylabel('Loss')\n",
        "    ax.set_xlabel('Epoch')\n",
        "\n",
        "    ax.legend(['Train', 'Test'], loc='best')\n",
        "\n",
        "    ax.grid(axis=\"x\",linewidth=0.5)\n",
        "    ax.grid(axis=\"y\",linewidth=0.5)\n",
        "\n",
        "    if title:\n",
        "        fig.suptitle(title)\n",
        "\n",
        "plot_loss(history, title='Loss')"
      ],
      "metadata": {
        "colab": {
          "base_uri": "https://localhost:8080/",
          "height": 428
        },
        "id": "9QmbMTEHwDa_",
        "outputId": "25e8a5fe-0d39-48b5-b770-4a22ffab9fca"
      },
      "execution_count": 69,
      "outputs": [
        {
          "output_type": "display_data",
          "data": {
            "text/plain": [
              "<Figure size 800x400 with 1 Axes>"
            ],
            "image/png": "[encoded data removed]"
          },
          "metadata": {}
        }
      ]
    },
    {
      "cell_type": "code",
      "source": [
        "# Get the weights\n",
        "print(model.layers)\n",
        "print(model.layers[0].get_weights())"
      ],
      "metadata": {
        "colab": {
          "base_uri": "https://localhost:8080/"
        },
        "id": "kmQV1XDvwPP7",
        "outputId": "079d1d95-b7ac-48e4-81a3-02bf64d78e3e"
      },
      "execution_count": 97,
      "outputs": [
        {
          "output_type": "stream",
          "name": "stdout",
          "text": [
            "[<keras.layers.core.dense.Dense object at 0x7c702259b280>, <keras.layers.core.dense.Dense object at 0x7c702259a830>]\n",
            "[array([[-0.63145226, -0.1596683 , -1.4832906 , -0.2927837 , -0.981831  ,\n",
            "         0.06741488,  0.10815793,  0.43232036],\n",
            "       [-0.4544799 ,  0.1810354 ,  0.02099061, -0.31294706, -0.3404912 ,\n",
            "        -0.34908438, -0.18539602,  0.2209401 ],\n",
            "       [ 0.5372693 , -0.31548482, -0.32466653,  0.57856894, -0.4682541 ,\n",
            "        -0.2319002 ,  0.14102966,  0.761169  ],\n",
            "       [ 0.49411362, -0.4753347 , -0.524667  ,  0.02680814,  0.4581238 ,\n",
            "        -0.10310426, -0.43599534, -0.4708649 ],\n",
            "       [-0.24440326, -0.30944118, -0.44297752, -0.01038523,  0.22227444,\n",
            "        -1.2534637 , -1.3038962 , -0.35243127],\n",
            "       [-1.0600704 ,  1.9599115 ,  1.903801  , -0.1788458 , -0.93918866,\n",
            "        -0.73542446,  1.2743027 ,  0.93742055],\n",
            "       [ 0.21457484, -0.49692112, -0.8773291 ,  0.75085175, -0.14522724,\n",
            "         0.47236046,  0.00600798, -0.1689522 ],\n",
            "       [-1.1560671 , -0.98135495, -0.04486318, -1.0824865 ,  0.28541344,\n",
            "        -0.43444744, -0.06256505, -0.7055653 ],\n",
            "       [ 0.34650064, -0.46826124, -0.88169354,  0.43446374,  0.59119326,\n",
            "         0.6295889 ,  1.2809516 ,  0.43845627],\n",
            "       [ 0.27541035, -1.1648234 , -1.2807169 , -0.39937395, -0.50043404,\n",
            "         0.338925  ,  0.56101096,  0.68964976],\n",
            "       [ 0.16027048, -2.0447414 ,  0.4979297 , -1.4658886 ,  0.6340612 ,\n",
            "         0.201402  ,  0.04253401, -0.14393957],\n",
            "       [ 0.7570213 , -0.00911203,  0.81714135, -0.51783276,  0.20271815,\n",
            "        -0.46125624, -0.7811454 ,  0.61667436],\n",
            "       [-1.5083942 ,  0.4054291 ,  0.5161225 , -1.0579894 ,  0.5695739 ,\n",
            "        -1.0839378 , -1.158927  , -1.7858694 ]], dtype=float32), array([-0.4465851 ,  0.6288171 ,  2.6574988 ,  0.10793748,  0.94731885,\n",
            "       -0.80699325,  2.3770142 , -0.9660577 ], dtype=float32)]\n"
          ]
        }
      ]
    },
    {
      "cell_type": "markdown",
      "source": [
        "The `model.layers[0].get_weights()` command is used to retrieve the weights (i.e., the parameters) of the first layer of the model. In a Dense layer, this will return a list of two elements:\n",
        "\n",
        "1.   A 2D weight matrix, where each row corresponds to one of the input dimensions and each column corresponds to one of the units (neurons) in the layer. Since we only have 1 neuron in your Dense layer, it will return a matrix with 13 rows and 1 column. These are often called the \"synaptic\" weights.\n",
        "\n",
        "2.   A 1D bias vector, with as many elements as there are units (neurons) in the layer. Since we only have 1 neuron, it will return a vector with a single element. The bias is like an intercept term in a linear model; it's added to the weighted inputs before the activation function is applied.\n",
        "\n"
      ],
      "metadata": {
        "id": "187ytkGyynMq"
      }
    },
    {
      "cell_type": "markdown",
      "source": [
        "## Part 3: Prediction"
      ],
      "metadata": {
        "id": "xm9YQa4rz81T"
      }
    },
    {
      "cell_type": "code",
      "source": [
        "pred = model.predict(X_test)\n",
        "pred[:10]"
      ],
      "metadata": {
        "colab": {
          "base_uri": "https://localhost:8080/"
        },
        "id": "FrPgS0NiyMUh",
        "outputId": "1a0ca7e4-5a59-4ac4-f015-01031b94754f"
      },
      "execution_count": 98,
      "outputs": [
        {
          "output_type": "stream",
          "name": "stdout",
          "text": [
            "6/6 [==============================] - 0s 2ms/step\n"
          ]
        },
        {
          "output_type": "execute_result",
          "data": {
            "text/plain": [
              "array([[15.308031],\n",
              "       [27.198977],\n",
              "       [17.895966],\n",
              "       [38.332047],\n",
              "       [42.137474],\n",
              "       [17.53306 ],\n",
              "       [22.07843 ],\n",
              "       [20.451344],\n",
              "       [22.207954],\n",
              "       [42.42491 ]], dtype=float32)"
            ]
          },
          "metadata": {},
          "execution_count": 98
        }
      ]
    },
    {
      "cell_type": "code",
      "source": [
        "pred_f = pred.flatten()\n",
        "pred_f[:5]"
      ],
      "metadata": {
        "colab": {
          "base_uri": "https://localhost:8080/"
        },
        "id": "bMGpbdrZ0D23",
        "outputId": "88b294fb-f387-4e5c-a839-593f9e79e3a2"
      },
      "execution_count": 99,
      "outputs": [
        {
          "output_type": "execute_result",
          "data": {
            "text/plain": [
              "array([15.308031, 27.198977, 17.895966, 38.332047, 42.137474],\n",
              "      dtype=float32)"
            ]
          },
          "metadata": {},
          "execution_count": 99
        }
      ]
    },
    {
      "cell_type": "code",
      "source": [
        "# Evaluation\n",
        "results_train = model.evaluate(X_train, y_train, verbose=0)\n",
        "results_test = model.evaluate(X_test, y_test, verbose=0)"
      ],
      "metadata": {
        "id": "IzHcjcp40M-D"
      },
      "execution_count": 100,
      "outputs": []
    },
    {
      "cell_type": "code",
      "source": [
        "print(\"Training MSE:\", results_train)\n",
        "print(\"Test MSE:\", results_test)\n",
        "\n",
        "print(\"\\nTraining RMSE:\", np.sqrt(results_train))\n",
        "print(\"Test RMSE:\", np.sqrt(results_test))"
      ],
      "metadata": {
        "colab": {
          "base_uri": "https://localhost:8080/"
        },
        "id": "6xL4f-0C0wJN",
        "outputId": "76e61bf6-daf1-4103-aaf0-8b1cedbebc88"
      },
      "execution_count": 101,
      "outputs": [
        {
          "output_type": "stream",
          "name": "stdout",
          "text": [
            "Training MSE: 8.95952033996582\n",
            "Test MSE: 14.114298820495605\n",
            "\n",
            "Training RMSE: 2.9932457867615585\n",
            "Test RMSE: 3.756900161102981\n"
          ]
        }
      ]
    },
    {
      "cell_type": "markdown",
      "source": [
        "If the model's predictions are unbiased, the residuals should be centered around zero and should follow a normal distribution."
      ],
      "metadata": {
        "id": "otyKWSaP5jos"
      }
    },
    {
      "cell_type": "code",
      "source": [
        "# Get predictions\n",
        "y_train_pred = model.predict(X_train)\n",
        "y_test_pred = model.predict(X_test)\n",
        "\n",
        "# Compute residuals\n",
        "residuals_train = y_train - y_train_pred.flatten()\n",
        "residuals_test = y_test - y_test_pred.flatten()\n",
        "\n",
        "# Plot distribution of residuals\n",
        "plt.figure(figsize=(8, 4))\n",
        "\n",
        "plt.subplot(121)\n",
        "sns.histplot(residuals_train, bins=20, kde=True)\n",
        "plt.title('Distribution of Training Residuals')\n",
        "\n",
        "plt.subplot(122)\n",
        "sns.histplot(residuals_test, bins=20, kde=True, color='orange')\n",
        "plt.title('Distribution of Test Residuals')\n",
        "\n",
        "plt.show()\n"
      ],
      "metadata": {
        "colab": {
          "base_uri": "https://localhost:8080/",
          "height": 445
        },
        "id": "UZMfn0oy4Qib",
        "outputId": "e1f1da1c-dcf3-447d-db27-1ed3e2f9f57c"
      },
      "execution_count": 102,
      "outputs": [
        {
          "output_type": "stream",
          "name": "stdout",
          "text": [
            "11/11 [==============================] - 0s 2ms/step\n",
            "6/6 [==============================] - 0s 2ms/step\n"
          ]
        },
        {
          "output_type": "display_data",
          "data": {
            "text/plain": [
              "<Figure size 800x400 with 2 Axes>"
            ],
            "image/png": "[encoded data removed]"
          },
          "metadata": {}
        }
      ]
    },
    {
      "cell_type": "markdown",
      "source": [
        "If the model's predictions are perfect, all points would lie on the 45-degree line. Deviations from this line indicate prediction errors."
      ],
      "metadata": {
        "id": "_TlPQal453jv"
      }
    },
    {
      "cell_type": "code",
      "source": [
        "# Scatterplot of predicted vs. actual values\n",
        "plt.figure(figsize=(8, 4))\n",
        "\n",
        "plt.subplot(121)\n",
        "plt.scatter(y_train, y_train_pred)\n",
        "plt.plot([y_train.min(), y_train.max()], [y_train.min(), y_train.max()], 'k--', lw=3)\n",
        "plt.xlabel('Actual')\n",
        "plt.ylabel('Predicted')\n",
        "plt.title('Training Data')\n",
        "\n",
        "plt.subplot(122)\n",
        "plt.scatter(y_test, y_test_pred, color='orange')\n",
        "plt.plot([y_test.min(), y_test.max()], [y_test.min(), y_test.max()], 'k--', lw=3)\n",
        "plt.xlabel('Actual')\n",
        "plt.ylabel('Predicted')\n",
        "plt.title('Test Data')\n",
        "\n",
        "plt.show()\n"
      ],
      "metadata": {
        "colab": {
          "base_uri": "https://localhost:8080/",
          "height": 410
        },
        "id": "Tg-JiltB4VMw",
        "outputId": "920d1223-707c-4071-b6bb-01fa14a39860"
      },
      "execution_count": 103,
      "outputs": [
        {
          "output_type": "display_data",
          "data": {
            "text/plain": [
              "<Figure size 800x400 with 2 Axes>"
            ],
            "image/png": "[encoded data removed]"
          },
          "metadata": {}
        }
      ]
    },
    {
      "cell_type": "code",
      "source": [
        "from scipy import stats\n",
        "\n",
        "# Test normality of residuals\n",
        "_, p_value_train = stats.shapiro(residuals_train)\n",
        "_, p_value_test = stats.shapiro(residuals_test)\n",
        "\n",
        "print(\"Training residuals normality test p-value:\", round(p_value_train, 4))\n",
        "print(\"Test residuals normality test p-value:\", round(p_value_test, 4))\n"
      ],
      "metadata": {
        "colab": {
          "base_uri": "https://localhost:8080/"
        },
        "id": "dBoF_mmD5xai",
        "outputId": "8d7487f4-9451-4849-84b2-65ac0a2c9ae7"
      },
      "execution_count": 104,
      "outputs": [
        {
          "output_type": "stream",
          "name": "stdout",
          "text": [
            "Training residuals normality test p-value: 0.0\n",
            "Test residuals normality test p-value: 0.0\n"
          ]
        }
      ]
    },
    {
      "cell_type": "markdown",
      "source": [
        "In this case, a low p-value (typically below 0.05) indicates that the null hypothesis can be rejected, i.e., the residuals are not normally distributed."
      ],
      "metadata": {
        "id": "fkFjPRjI66Xy"
      }
    },
    {
      "cell_type": "code",
      "source": [],
      "metadata": {
        "id": "cAWbu5UR6kV6"
      },
      "execution_count": null,
      "outputs": []
    }
  ]
}