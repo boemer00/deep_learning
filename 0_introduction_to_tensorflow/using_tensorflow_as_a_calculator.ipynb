{
  "cells": [
    {
      "cell_type": "markdown",
      "metadata": {
        "id": "view-in-github",
        "colab_type": "text"
      },
      "source": [
        "<a href=\"https://colab.research.google.com/github/boemer00/deep_learning/blob/main/0_introduction_to_tensorflow/using_tensorflow_as_a_calculator.ipynb\" target=\"_parent\"><img src=\"https://colab.research.google.com/assets/colab-badge.svg\" alt=\"Open In Colab\"/></a>"
      ]
    },
    {
      "cell_type": "markdown",
      "metadata": {
        "id": "4EhIqvnsNlkt"
      },
      "source": [
        "The purpose of this notebook is to showcase using some of the lower level TensorFlow APIs, instead of using the high level keras API.\n",
        "\n",
        "You likely won't use this lower level API very often, since Keras has mostly everything you might need covered. In my experience, this is mainly for testing new things or trying to check some logic or computations."
      ]
    },
    {
      "cell_type": "code",
      "execution_count": 1,
      "metadata": {
        "id": "O2B0VoyeNlkw"
      },
      "outputs": [],
      "source": [
        "import tensorflow as tf\n",
        "import matplotlib.pyplot as plt"
      ]
    },
    {
      "cell_type": "markdown",
      "metadata": {
        "id": "JlhxEprdNlky"
      },
      "source": [
        "## Basic Arithmetic"
      ]
    },
    {
      "cell_type": "code",
      "execution_count": 2,
      "metadata": {
        "colab": {
          "base_uri": "https://localhost:8080/"
        },
        "id": "Mcc9qSSuNlky",
        "outputId": "dbfda9f1-2cb9-4411-cfcc-7745d4f403d0"
      },
      "outputs": [
        {
          "output_type": "stream",
          "name": "stdout",
          "text": [
            "The Tensor:\n",
            "[[1. 2. 3.]\n",
            " [4. 5. 6.]]\n",
            "Its shape:\n",
            "(2, 3)\n",
            "The dtype:\n",
            "<dtype: 'float32'>\n"
          ]
        }
      ],
      "source": [
        "x = tf.constant([[1., 2., 3.],\n",
        "                 [4., 5., 6.]])\n",
        "print(f\"The Tensor:\\n{x}\")\n",
        "print(f\"Its shape:\\n{x.shape}\")\n",
        "# this dtype is the dtype of the elements INSIDE the tensor\n",
        "print(f\"The dtype:\\n{x.dtype}\")"
      ]
    },
    {
      "cell_type": "markdown",
      "metadata": {
        "id": "7uHmykZLNlkz"
      },
      "source": [
        "You can perform basic arithmetic operations on TensorFlow tensors:"
      ]
    },
    {
      "cell_type": "code",
      "execution_count": 3,
      "metadata": {
        "colab": {
          "base_uri": "https://localhost:8080/"
        },
        "id": "wTjT4ZujNlkz",
        "outputId": "6d64cbb1-288f-4bf9-b426-20d8d3e62ea0"
      },
      "outputs": [
        {
          "output_type": "stream",
          "name": "stdout",
          "text": [
            "Basic addition:\n",
            "[[ 2.  4.  6.]\n",
            " [ 8. 10. 12.]]\n",
            "Basic multiplication:\n",
            "[[ 5. 10. 15.]\n",
            " [20. 25. 30.]]\n",
            "Matrix multiplication:\n",
            "[[14. 32.]\n",
            " [32. 77.]]\n",
            "Concatenation:\n",
            "[[1. 2. 3.]\n",
            " [4. 5. 6.]\n",
            " [1. 2. 3.]\n",
            " [4. 5. 6.]]\n",
            "Softmax transformation:\n",
            "[[0.09003057 0.24472848 0.66524094]\n",
            " [0.09003057 0.24472848 0.66524094]]\n",
            "Sum all elements:\n",
            "21.0\n"
          ]
        }
      ],
      "source": [
        "print(f\"Basic addition:\\n{x + x}\")\n",
        "print(f\"Basic multiplication:\\n{5*x}\")\n",
        "print(f\"Matrix multiplication:\\n{x @ tf.transpose(x)}\")\n",
        "print(f\"Concatenation:\\n{tf.concat([x, x], axis=0)}\")\n",
        "print(f\"Softmax transformation:\\n{tf.nn.softmax(x, axis=-1)}\")\n",
        "print(f\"Sum all elements:\\n{tf.reduce_sum(x)}\")"
      ]
    },
    {
      "cell_type": "code",
      "execution_count": 4,
      "metadata": {
        "colab": {
          "base_uri": "https://localhost:8080/"
        },
        "id": "JxfYqJzpNlk0",
        "outputId": "5f3e6f90-7ca0-4183-8356-94eeba7ef2a1"
      },
      "outputs": [
        {
          "output_type": "stream",
          "name": "stdout",
          "text": [
            "The GPU is NOT available\n"
          ]
        }
      ],
      "source": [
        "if tf.config.list_physical_devices(\"GPU\"):\n",
        "    print(\"The GPU is available\")\n",
        "else:\n",
        "    print(\"The GPU is NOT available\")"
      ]
    },
    {
      "cell_type": "code",
      "execution_count": 5,
      "metadata": {
        "colab": {
          "base_uri": "https://localhost:8080/"
        },
        "id": "iKKRHveONlk0",
        "outputId": "c69cbfe5-ba97-4378-d280-7c9970c00bb0"
      },
      "outputs": [
        {
          "output_type": "stream",
          "name": "stdout",
          "text": [
            "The variable:\n",
            "<tf.Variable 'Variable:0' shape=(3,) dtype=float32, numpy=array([0., 0., 0.], dtype=float32)>\n",
            "The variable:\n",
            "<tf.Variable 'Variable:0' shape=(3,) dtype=float32, numpy=array([1., 2., 3.], dtype=float32)>\n"
          ]
        }
      ],
      "source": [
        "# we can define mutable variables like this\n",
        "\n",
        "var = tf.Variable([0.0, 0.0, 0.0])\n",
        "print(f\"The variable:\\n{var}\")\n",
        "var.assign([1, 2, 3])\n",
        "print(f\"The variable:\\n{var}\")"
      ]
    },
    {
      "cell_type": "markdown",
      "metadata": {
        "id": "rKpcuRvtNlk1"
      },
      "source": [
        "## Autodiff"
      ]
    },
    {
      "cell_type": "code",
      "execution_count": 6,
      "metadata": {
        "id": "s1ovQJYWNlk1"
      },
      "outputs": [],
      "source": [
        "x = tf.Variable(1.0)\n",
        "\n",
        "def f(x):\n",
        "    \"\"\"\n",
        "    A simple function where we know its derivative analytically\n",
        "\n",
        "    It's derivative is:\n",
        "    y'(x) = 2x + 2\n",
        "\n",
        "    So we can numerically evaluate this:\n",
        "    y'(1) = 2(1) + 2 = 4\n",
        "    \"\"\"\n",
        "    y = x ** 2 + 2 * x + 1\n",
        "    return y"
      ]
    },
    {
      "cell_type": "markdown",
      "metadata": {
        "id": "FlJFWTSrNlk2"
      },
      "source": [
        "TensorFlow has support for automatic differentiation. This is accessed via the `GradientTape` class.\n",
        "\n",
        "Typically, you're going to pass the function you want to know the derivative of as the first argument, and then you pass the arguments with respect to which you want to compute the derivative.\n",
        "\n",
        "So in our case, our function is `y`, and we want to know it's derivative with respect to `x`, so we pass `x` as the second argument."
      ]
    },
    {
      "cell_type": "code",
      "execution_count": null,
      "metadata": {
        "id": "iQkiRZldNlk2",
        "outputId": "c398cbc1-ec58-476d-b217-826e3d0f5b7f"
      },
      "outputs": [
        {
          "name": "stdout",
          "output_type": "stream",
          "text": [
            "tf.Tensor(4.0, shape=(), dtype=float32)\n"
          ]
        }
      ],
      "source": [
        "with tf.GradientTape() as tape:\n",
        "    y = f(x)\n",
        "    # the derivative of y with respect to x\n",
        "    dy_dx = tape.gradient(y, x)\n",
        "\n",
        "print(dy_dx)"
      ]
    },
    {
      "cell_type": "markdown",
      "metadata": {
        "id": "p3kGcC9pNlk2"
      },
      "source": [
        "We can also use our `GradientTape` on an entire layer:"
      ]
    },
    {
      "cell_type": "code",
      "execution_count": 7,
      "metadata": {
        "colab": {
          "base_uri": "https://localhost:8080/"
        },
        "id": "QYAAtNhgNlk3",
        "outputId": "36bf842b-9d63-4559-e983-9f7cecbede16"
      },
      "outputs": [
        {
          "output_type": "stream",
          "name": "stdout",
          "text": [
            "Variable dense/kernel:0\n",
            "gradient: [[1.0256197 0.       ]\n",
            " [2.0512395 0.       ]\n",
            " [3.0768592 0.       ]]\n",
            "Variable dense/bias:0\n",
            "gradient: [1.0256197 0.       ]\n"
          ]
        }
      ],
      "source": [
        "layer = tf.keras.layers.Dense(2, activation=\"relu\")\n",
        "x = tf.constant([[1., 2., 3.]])\n",
        "\n",
        "with tf.GradientTape() as tape:\n",
        "    # perform the forward pass\n",
        "    y = layer(x)\n",
        "    loss = tf.reduce_mean(y**2)\n",
        "\n",
        "# compute gradients w.r.t. every trainable variable\n",
        "gradients = tape.gradient(loss, layer.trainable_variables)\n",
        "\n",
        "for variable, gradient in zip(layer.trainable_variables, gradients):\n",
        "    print(f\"Variable {variable.name}\\ngradient: {gradient}\")"
      ]
    },
    {
      "cell_type": "markdown",
      "metadata": {
        "id": "lxpnwWavNlk3"
      },
      "source": [
        "## Modules\n",
        "\n",
        "Modules are how to manage `tf.Variable` objects and `tf.function` objects. You need to use the `tf.Module` class to gain access to:\n",
        "\n",
        "* saving and restoring the values of your variables using `tf.train.Checkpoint`\n",
        "* importing and exporting the `tf.Variable` values and the `tf.function` graphs using `tf.saved_model`; this let's you save and use your model elsewhere outside of your training routine\n",
        "\n",
        "\n",
        "`tf.keras.layers.Layer` and `tf.keras.Model` classes basically build on top of the `tf.Module` class, providing additional functionality and convenience methods for building, training and saving models."
      ]
    },
    {
      "cell_type": "code",
      "execution_count": 8,
      "metadata": {
        "colab": {
          "base_uri": "https://localhost:8080/"
        },
        "id": "ILT_43XUNlk3",
        "outputId": "5c6e0a8a-d64f-4654-84b1-925dc6ebb8f6"
      },
      "outputs": [
        {
          "output_type": "stream",
          "name": "stdout",
          "text": [
            "tf.Tensor([3. 6. 9.], shape=(3,), dtype=float32)\n"
          ]
        }
      ],
      "source": [
        "class ExampleModule(tf.Module):\n",
        "    def __init__(self, example_weight_value):\n",
        "        self.weight = tf.Variable(example_weight_value, name=\"example_weight\")\n",
        "\n",
        "    @tf.function\n",
        "    def multiply(self, x):\n",
        "        return self.weight * x\n",
        "\n",
        "\n",
        "example_module = ExampleModule(example_weight_value=3.0)\n",
        "print(example_module.multiply(tf.constant([1.0, 2.0, 3.0])))"
      ]
    },
    {
      "cell_type": "code",
      "execution_count": 9,
      "metadata": {
        "id": "vVjTxNZ5Nlk4"
      },
      "outputs": [],
      "source": [
        "# and then you would save this module like this:\n",
        "save_path = \"/tmp/example_module\"\n",
        "tf.saved_model.save(example_module, save_path)"
      ]
    },
    {
      "cell_type": "code",
      "execution_count": 10,
      "metadata": {
        "colab": {
          "base_uri": "https://localhost:8080/"
        },
        "id": "JLHSK545Nlk4",
        "outputId": "19406c04-e94f-4bdb-bd9e-2da6a9288080"
      },
      "outputs": [
        {
          "output_type": "execute_result",
          "data": {
            "text/plain": [
              "<tf.Tensor: shape=(3,), dtype=float32, numpy=array([3., 6., 9.], dtype=float32)>"
            ]
          },
          "metadata": {},
          "execution_count": 10
        }
      ],
      "source": [
        "# and you can load it back like this:\n",
        "reloaded = tf.saved_model.load(save_path)\n",
        "reloaded.multiply(tf.constant([1.0, 2.0, 3.0]))"
      ]
    },
    {
      "cell_type": "markdown",
      "metadata": {
        "id": "QOHidZ7tNlk4"
      },
      "source": [
        "## Training Loop from Scratch\n",
        "\n",
        "We can use the low level TensorFlow APIs to show how you'd create a custom training loop."
      ]
    },
    {
      "cell_type": "code",
      "execution_count": 11,
      "metadata": {
        "colab": {
          "base_uri": "https://localhost:8080/"
        },
        "id": "ioqJnmiyNlk4",
        "outputId": "4e814604-d18a-40da-d1b6-34443041bd0f"
      },
      "outputs": [
        {
          "output_type": "stream",
          "name": "stdout",
          "text": [
            "<class 'tensorflow.python.framework.ops.EagerTensor'>\n",
            "<dtype: 'float64'>\n",
            "<class 'tensorflow.python.framework.ops.EagerTensor'>\n",
            "<dtype: 'float32'>\n"
          ]
        }
      ],
      "source": [
        "n_samples = 201\n",
        "x = tf.linspace(-2, 2, n_samples)\n",
        "print(type(x))\n",
        "print(x.dtype)\n",
        "# we cast it to smaller float32 since we don't need float64\n",
        "x = tf.cast(x, tf.float32)\n",
        "print(type(x))\n",
        "print(x.dtype)"
      ]
    },
    {
      "cell_type": "code",
      "execution_count": 12,
      "metadata": {
        "id": "K6ZV4b6TNlk5"
      },
      "outputs": [],
      "source": [
        "def f(x):\n",
        "    \"\"\"\n",
        "    This is the true data generating process that we'd like to recover\n",
        "    \"\"\"\n",
        "    y = x ** 2 + 2 * x - 5\n",
        "    return y"
      ]
    },
    {
      "cell_type": "code",
      "execution_count": 13,
      "metadata": {
        "colab": {
          "base_uri": "https://localhost:8080/"
        },
        "id": "IllJ6_fzNlk5",
        "outputId": "b4832df9-5c2b-4f3c-d010-ff015ae4c53c"
      },
      "outputs": [
        {
          "output_type": "stream",
          "name": "stdout",
          "text": [
            "tf.Tensor([-0.72318447], shape=(1,), dtype=float32)\n"
          ]
        }
      ],
      "source": [
        "# add some random gaussian noise\n",
        "print(tf.random.normal(shape=[1]))\n",
        "y = f(x) + tf.random.normal(shape=[n_samples])"
      ]
    },
    {
      "cell_type": "code",
      "execution_count": 14,
      "metadata": {
        "colab": {
          "base_uri": "https://localhost:8080/",
          "height": 430
        },
        "id": "b7sQHUXZNlk5",
        "outputId": "4399b4b8-a8cf-4690-ffff-930dfa5aa127"
      },
      "outputs": [
        {
          "output_type": "display_data",
          "data": {
            "text/plain": [
              "<Figure size 640x480 with 1 Axes>"
            ],
            "image/png": "[encoded data removed]"
          },
          "metadata": {}
        }
      ],
      "source": [
        "plt.plot(x, y, \".\", label=\"data\")\n",
        "plt.plot(x, f(x), label=\"Ground Truth\")\n",
        "plt.legend()\n",
        "plt.show()"
      ]
    },
    {
      "cell_type": "code",
      "execution_count": 15,
      "metadata": {
        "id": "490_xrW_Nlk5"
      },
      "outputs": [],
      "source": [
        "class Model(tf.Module):\n",
        "    def __init__(self):\n",
        "        random_inital_weights = tf.random.uniform(shape=[3], minval=0., maxval=5., seed=22)\n",
        "\n",
        "        # quadratic weight\n",
        "        self.w_q = tf.Variable(random_inital_weights[0], name=\"w_q\")\n",
        "        # linear weight\n",
        "        self.w_l = tf.Variable(random_inital_weights[1], name=\"w_l\")\n",
        "        self.b = tf.Variable(random_inital_weights[2], name=\"b\")\n",
        "\n",
        "    @tf.function\n",
        "    def __call__(self, x):\n",
        "        \"\"\"\n",
        "        this is our re-implementation of f, with initialized weights\n",
        "\n",
        "        We need to get back the fact that f was:\n",
        "        y = x ** 2 + 2 * x - 5\n",
        "        So we need to retrieve (1, 2, -5)\n",
        "        \"\"\"\n",
        "        return self.w_q * (x ** 2) + self.w_l * x + self.b"
      ]
    },
    {
      "cell_type": "code",
      "execution_count": 16,
      "metadata": {
        "id": "H6wOfR9BNlk5"
      },
      "outputs": [],
      "source": [
        "# try predicting with the model with initialized weights before training\n",
        "quadratic_model = Model()"
      ]
    },
    {
      "cell_type": "code",
      "execution_count": 17,
      "metadata": {
        "id": "61MdVyP1Nlk5"
      },
      "outputs": [],
      "source": [
        "def plot_predictions(x, y, f, model, title):\n",
        "    plt.figure()\n",
        "    plt.plot(x, y, '.', label='Data')\n",
        "    plt.plot(x, f(x), label='Ground Truth')\n",
        "    plt.plot(x, model(x), label='Predictions')\n",
        "    plt.title(title)\n",
        "    plt.legend()"
      ]
    },
    {
      "cell_type": "code",
      "execution_count": 18,
      "metadata": {
        "colab": {
          "base_uri": "https://localhost:8080/",
          "height": 452
        },
        "id": "56nEl269Nlk6",
        "outputId": "934dec08-151f-4d34-9aec-1f154111cddf"
      },
      "outputs": [
        {
          "output_type": "display_data",
          "data": {
            "text/plain": [
              "<Figure size 640x480 with 1 Axes>"
            ],
            "image/png": "[encoded data removed]"
          },
          "metadata": {}
        }
      ],
      "source": [
        "plot_predictions(x, y, f, quadratic_model, \"Before Training\")"
      ]
    },
    {
      "cell_type": "code",
      "execution_count": null,
      "metadata": {
        "id": "BcONpUslNlk6"
      },
      "outputs": [],
      "source": []
    }
  ],
  "metadata": {
    "kernelspec": {
      "display_name": "module-1-introduction-to-tensorflow-Q55Sc-wf-py3.10",
      "language": "python",
      "name": "python3"
    },
    "language_info": {
      "codemirror_mode": {
        "name": "ipython",
        "version": 3
      },
      "file_extension": ".py",
      "mimetype": "text/x-python",
      "name": "python",
      "nbconvert_exporter": "python",
      "pygments_lexer": "ipython3",
      "version": "3.10.11"
    },
    "orig_nbformat": 4,
    "colab": {
      "provenance": [],
      "include_colab_link": true
    }
  },
  "nbformat": 4,
  "nbformat_minor": 0
}