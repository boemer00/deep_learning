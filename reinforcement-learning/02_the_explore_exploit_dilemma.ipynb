{
 "cells": [
  {
   "cell_type": "code",
   "execution_count": 1,
   "id": "22696378",
   "metadata": {},
   "outputs": [],
   "source": [
    "import numpy as np\n",
    "import pandas as pd\n",
    "import seaborn as sns\n",
    "import matplotlib.pyplot as plt\n",
    "\n",
    "import warnings\n",
    "warnings.simplefilter('ignore')"
   ]
  },
  {
   "cell_type": "markdown",
   "id": "a104cca5",
   "metadata": {},
   "source": [
    "## Explanation"
   ]
  },
  {
   "cell_type": "markdown",
   "id": "c5166747",
   "metadata": {},
   "source": [
    "**Slot Machine Problem**\n",
    "\n",
    "- P(success) = num of times won / num of times played"
   ]
  },
  {
   "cell_type": "markdown",
   "id": "c1c55c26",
   "metadata": {},
   "source": [
    "**Maximum likelihood estimation (MLE)** \n",
    "\n",
    "MLE is a statistical method used to estimate the parameters of a probability distribution by maximising a likelihood function, thus making the observed data most probable. This technique is widely used for parameter estimation in various probabilistic models."
   ]
  },
  {
   "cell_type": "markdown",
   "id": "91515972",
   "metadata": {},
   "source": [
    "Greedy algorithms and MLE both seek optimal solutions through sequential choices, with greedy algorithms focusing on immediate benefits at each step, while MLE aims to maximise the overall likelihood of observed data. While different in application, they share a common principle of optimisation in decision-making processes."
   ]
  },
  {
   "cell_type": "markdown",
   "id": "df75fc76",
   "metadata": {},
   "source": [
    "**Two opposing forces**\n",
    "\n",
    "- collect more data (*exploration*)\n",
    "- select chose with highest win rate (*exploitation*)\n",
    "\n",
    "Here we will go through 4 algorithms to solve the explore-exploit dilemma:\n",
    "- epsilon-greedy\n",
    "- optimistic initial values\n",
    "- ucb1 (upper confidence bound)\n",
    "- thompson sampling (bayesian bandit)\n",
    "\n",
    "These methods can replace the traditional AB testing. These methods are adaptive and effective in high throughput business settings."
   ]
  },
  {
   "cell_type": "markdown",
   "id": "157de875",
   "metadata": {},
   "source": [
    "## Applications of the Explore-Exploit dilemma"
   ]
  },
  {
   "cell_type": "code",
   "execution_count": null,
   "id": "547f2bea",
   "metadata": {},
   "outputs": [],
   "source": []
  },
  {
   "cell_type": "code",
   "execution_count": null,
   "id": "f3a21d28",
   "metadata": {},
   "outputs": [],
   "source": []
  },
  {
   "cell_type": "code",
   "execution_count": null,
   "id": "3d92d2c8",
   "metadata": {},
   "outputs": [],
   "source": []
  },
  {
   "cell_type": "code",
   "execution_count": null,
   "id": "b39d8484",
   "metadata": {},
   "outputs": [],
   "source": []
  },
  {
   "cell_type": "code",
   "execution_count": null,
   "id": "0af1af7d",
   "metadata": {},
   "outputs": [],
   "source": []
  },
  {
   "cell_type": "code",
   "execution_count": null,
   "id": "c39fcd7e",
   "metadata": {},
   "outputs": [],
   "source": []
  },
  {
   "cell_type": "code",
   "execution_count": null,
   "id": "e08c0d97",
   "metadata": {},
   "outputs": [],
   "source": []
  },
  {
   "cell_type": "code",
   "execution_count": null,
   "id": "3042895c",
   "metadata": {},
   "outputs": [],
   "source": []
  },
  {
   "cell_type": "code",
   "execution_count": null,
   "id": "6cae2174",
   "metadata": {},
   "outputs": [],
   "source": []
  }
 ],
 "metadata": {
  "kernelspec": {
   "display_name": "Python 3 (ipykernel)",
   "language": "python",
   "name": "python3"
  },
  "language_info": {
   "codemirror_mode": {
    "name": "ipython",
    "version": 3
   },
   "file_extension": ".py",
   "mimetype": "text/x-python",
   "name": "python",
   "nbconvert_exporter": "python",
   "pygments_lexer": "ipython3",
   "version": "3.10.6"
  },
  "toc": {
   "base_numbering": 1,
   "nav_menu": {},
   "number_sections": true,
   "sideBar": true,
   "skip_h1_title": false,
   "title_cell": "Table of Contents",
   "title_sidebar": "Contents",
   "toc_cell": false,
   "toc_position": {},
   "toc_section_display": true,
   "toc_window_display": false
  }
 },
 "nbformat": 4,
 "nbformat_minor": 5
}
