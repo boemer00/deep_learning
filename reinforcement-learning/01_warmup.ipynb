{
 "cells": [
  {
   "cell_type": "code",
   "execution_count": 2,
   "id": "eb7a4fc7",
   "metadata": {},
   "outputs": [],
   "source": [
    "import numpy as np\n",
    "import pandas as pd\n",
    "import seaborn as sns\n",
    "import matplotlib.pyplot as plt"
   ]
  },
  {
   "cell_type": "markdown",
   "id": "2a8dc612",
   "metadata": {},
   "source": [
    "## Gradient Descent"
   ]
  },
  {
   "cell_type": "code",
   "execution_count": 35,
   "id": "507af886",
   "metadata": {},
   "outputs": [],
   "source": [
    "np.random.seed(0)\n",
    "\n",
    "num_samples = 100\n",
    "X = np.random.rand(num_samples)\n",
    "\n",
    "m = 2  # slope\n",
    "b = 3  # intercept\n",
    "\n",
    "# compute y values\n",
    "y = m * X + b\n",
    "\n",
    "# add noise\n",
    "noise = np.random.normal(0, 0.5, num_samples)\n",
    "y_noisy = y + noise\n"
   ]
  },
  {
   "cell_type": "code",
   "execution_count": 36,
   "id": "84c4701a",
   "metadata": {},
   "outputs": [],
   "source": [
    "# initialise theta\n",
    "theta = np.array([0, 0], dtype=float)\n",
    "\n",
    "# set parameters\n",
    "learning_rate = 0.01\n",
    "steps = 1000"
   ]
  },
  {
   "cell_type": "code",
   "execution_count": 38,
   "id": "9661a2a8",
   "metadata": {},
   "outputs": [],
   "source": [
    "for i in range(steps):\n",
    "    # calculate predictions\n",
    "    pred = theta[0] + theta[1] * X\n",
    "    \n",
    "    # calculate errors\n",
    "    errors = pred - y_noisy\n",
    "    \n",
    "    # update coefficients using the gradients\n",
    "    gradient = np.array([np.mean(errors), np.mean(errors * X)])\n",
    "    theta -= learning_rate * gradient\n",
    "    "
   ]
  },
  {
   "cell_type": "code",
   "execution_count": 39,
   "id": "b4ae8ecb",
   "metadata": {},
   "outputs": [
    {
     "name": "stdout",
     "output_type": "stream",
     "text": [
      "Optimised theta0: 3.191854442351897\n",
      "Optimised theta1: 1.8090382465443426\n"
     ]
    }
   ],
   "source": [
    "print(f'Optimised theta0: {theta[0]}')\n",
    "print(f'Optimised theta1: {theta[1]}')\n"
   ]
  },
  {
   "cell_type": "code",
   "execution_count": null,
   "id": "0f49afd8",
   "metadata": {},
   "outputs": [],
   "source": []
  },
  {
   "cell_type": "code",
   "execution_count": null,
   "id": "9069cf8c",
   "metadata": {},
   "outputs": [],
   "source": []
  },
  {
   "cell_type": "code",
   "execution_count": null,
   "id": "c62ef307",
   "metadata": {},
   "outputs": [],
   "source": []
  },
  {
   "cell_type": "code",
   "execution_count": null,
   "id": "1d059a5e",
   "metadata": {},
   "outputs": [],
   "source": []
  },
  {
   "cell_type": "code",
   "execution_count": null,
   "id": "be22ed35",
   "metadata": {},
   "outputs": [],
   "source": []
  },
  {
   "cell_type": "code",
   "execution_count": null,
   "id": "3ff82ff3",
   "metadata": {},
   "outputs": [],
   "source": []
  },
  {
   "cell_type": "code",
   "execution_count": null,
   "id": "d645ebdd",
   "metadata": {},
   "outputs": [],
   "source": []
  }
 ],
 "metadata": {
  "kernelspec": {
   "display_name": "Python 3 (ipykernel)",
   "language": "python",
   "name": "python3"
  },
  "language_info": {
   "codemirror_mode": {
    "name": "ipython",
    "version": 3
   },
   "file_extension": ".py",
   "mimetype": "text/x-python",
   "name": "python",
   "nbconvert_exporter": "python",
   "pygments_lexer": "ipython3",
   "version": "3.10.6"
  },
  "toc": {
   "base_numbering": 1,
   "nav_menu": {},
   "number_sections": true,
   "sideBar": true,
   "skip_h1_title": false,
   "title_cell": "Table of Contents",
   "title_sidebar": "Contents",
   "toc_cell": false,
   "toc_position": {},
   "toc_section_display": true,
   "toc_window_display": false
  }
 },
 "nbformat": 4,
 "nbformat_minor": 5
}
