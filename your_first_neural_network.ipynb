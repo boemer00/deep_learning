{
 "cells": [
  {
   "cell_type": "markdown",
   "metadata": {},
   "source": [
    "# Your First Neural Network"
   ]
  },
  {
   "cell_type": "markdown",
   "metadata": {},
   "source": [
    "🎯 Goals of this challenge:\n",
    "- Writing the architecture of a Neural Network\n",
    "- Inspect some of the most important hyperparameters of a Neural Network"
   ]
  },
  {
   "cell_type": "markdown",
   "metadata": {},
   "source": [
    "🌗 In this challenge, we will be working with the **moons dataset**. \n",
    "* Your goal is to build a Neural Network which separates two classes. \n",
    "* Each data point $X$ has two coordinates $X = (x_1, x_2)$ and belongs to either the class 0 or the class 1\n",
    "* These bi-dimensional points can be represented on a 2D-scatterplot, using colors to represent to two available classes $\\color{blue}{blue}$ and $\\color{red}{red} $\n",
    "* Here is an example of such a moon dataset:\n",
    "\n",
    "<img src=\"https://wagon-public-datasets.s3.amazonaws.com/data-science-images/DL/moons_dataset.png\" />"
   ]
  },
  {
   "cell_type": "markdown",
   "metadata": {},
   "source": [
    "## (1)  Generating the Moons dataset"
   ]
  },
  {
   "cell_type": "markdown",
   "metadata": {},
   "source": [
    "📚 Here, we will use the Scikit-Learn `make_moons` function [(see documentation here)](https://scikit-learn.org/stable/modules/generated/sklearn.datasets.make_moons.html) to create 2 moons that cannot be linearly separated. \n",
    "\n",
    "👉 Each moon corresponds to a class."
   ]
  },
  {
   "cell_type": "code",
   "execution_count": 1,
   "metadata": {},
   "outputs": [],
   "source": [
    "from sklearn.datasets import make_moons\n",
    "\n",
    "### Generating the moons dataset\n",
    "X, y = make_moons(n_samples=300, noise=0.25, random_state=0)"
   ]
  },
  {
   "cell_type": "code",
   "execution_count": 2,
   "metadata": {},
   "outputs": [
    {
     "data": {
      "image/png": "[encoded data removed]",
      "text/plain": [
       "<Figure size 640x480 with 1 Axes>"
      ]
     },
     "metadata": {},
     "output_type": "display_data"
    }
   ],
   "source": [
    "### This function allows to plot the two moons\n",
    "\n",
    "import pandas as pd\n",
    "import matplotlib.pyplot as plt\n",
    "%matplotlib inline\n",
    "\n",
    "def plot_moons(X, y):\n",
    "    df = pd.DataFrame(dict(x1=X[:,0], x2=X[:,1], label=y))\n",
    "    colors = {0:'red', 1:'blue'}\n",
    "    fig, ax = plt.subplots()\n",
    "    grouped = df.groupby('label')\n",
    "\n",
    "    for key, group in grouped:\n",
    "        group.plot(ax=ax, kind='scatter', x='x1', y='x2', label=key, color=colors[key])\n",
    "        \n",
    "    \n",
    "    plt.title(f\"{len(X)} moons\")\n",
    "    plt.show()\n",
    "\n",
    "plot_moons(X, y)"
   ]
  },
  {
   "cell_type": "markdown",
   "metadata": {},
   "source": [
    "❓  Play with the number of samples and the noise to discover the effects on the `moons dataset` ❓\n",
    "\n",
    "🎨 Plot the moons for different values."
   ]
  },
  {
   "cell_type": "code",
   "execution_count": 3,
   "metadata": {
    "tags": [
     "challengify"
    ]
   },
   "outputs": [],
   "source": [
    "# YOUR CODE HERE"
   ]
  },
  {
   "cell_type": "markdown",
   "metadata": {},
   "source": [
    "❓ Create 250 samples of the data with ❓\n",
    "* a noise equal to 0.20\n",
    "* a random state equal to 0 to get the same results every time you re-run the notebook\n",
    "* and split the initial dataset into a train and test set (size: 70/30%) \n",
    "\n",
    "*Remark* : Please call the variables `X_train`, `y_train`, `X_test` and `y_test`"
   ]
  },
  {
   "cell_type": "code",
   "execution_count": 4,
   "metadata": {},
   "outputs": [],
   "source": [
    "X, y = make_moons(n_samples=250, noise=0.20, random_state=0)"
   ]
  },
  {
   "cell_type": "code",
   "execution_count": 5,
   "metadata": {},
   "outputs": [],
   "source": [
    "from sklearn.model_selection import train_test_split\n",
    "\n",
    "# Assuming you have X and y as your original data\n",
    "X_train, X_test, y_train, y_test = train_test_split(X, y, test_size=0.3, random_state=0)"
   ]
  },
  {
   "cell_type": "code",
   "execution_count": 6,
   "metadata": {},
   "outputs": [
    {
     "data": {
      "text/plain": [
       "((175, 2), (75, 2), (175,), (75,))"
      ]
     },
     "execution_count": 6,
     "metadata": {},
     "output_type": "execute_result"
    }
   ],
   "source": [
    "X_train.shape, X_test.shape, y_train.shape, y_test.shape"
   ]
  },
  {
   "cell_type": "markdown",
   "metadata": {},
   "source": [
    "## (2) Designing a basic Neural Network  for a binary classification task"
   ]
  },
  {
   "cell_type": "markdown",
   "metadata": {},
   "source": [
    "🧠 You will now define your first neural network.\n",
    "The architecture of your model should have: \n",
    "- a first layer with:\n",
    "    - 5 neurons\n",
    "    - a _relu_ activation function \n",
    "    - the correct input dimension\n",
    "- an output layer suited to your binary classification task.\n",
    "\n",
    "\n",
    "❓ Complete the next function with the previous architecture ❓"
   ]
  },
  {
   "cell_type": "code",
   "execution_count": 7,
   "metadata": {
    "tags": [
     "challengify"
    ]
   },
   "outputs": [
    {
     "name": "stderr",
     "output_type": "stream",
     "text": [
      "2023-07-23 15:20:31.279569: I tensorflow/core/platform/cpu_feature_guard.cc:182] This TensorFlow binary is optimized to use available CPU instructions in performance-critical operations.\n",
      "To enable the following instructions: AVX2 FMA, in other operations, rebuild TensorFlow with the appropriate compiler flags.\n"
     ]
    }
   ],
   "source": [
    "from tensorflow.keras.models import Sequential\n",
    "from tensorflow.keras import  layers"
   ]
  },
  {
   "cell_type": "code",
   "execution_count": 8,
   "metadata": {},
   "outputs": [
    {
     "data": {
      "text/plain": [
       "2"
      ]
     },
     "execution_count": 8,
     "metadata": {},
     "output_type": "execute_result"
    }
   ],
   "source": [
    "X_train.shape[1]"
   ]
  },
  {
   "cell_type": "code",
   "execution_count": 9,
   "metadata": {},
   "outputs": [],
   "source": [
    "def initialize_model():\n",
    "    \n",
    "    #############################\n",
    "    #  1 - Model architecture   #\n",
    "    #############################    \n",
    "    \n",
    "    model = Sequential()\n",
    "    model.add(layers.Dense(5, activation='relu', input_dim=2))\n",
    "    model.add(layers.Dense(1, activation='sigmoid'))\n",
    "    \n",
    "    #############################\n",
    "    #  2 - Optimization Method  #\n",
    "    #############################\n",
    "    model.compile(loss='binary_crossentropy', # We've already mentioned this loss function in Logistic Regression\n",
    "                  optimizer='adam', # Optimizer in Deep Learning = solver in Machine Learning | Adam = our best friend\n",
    "                  metrics=['accuracy']) # Let's focus on the accuracy, our dataset is balanced\n",
    "    \n",
    "    return model\n",
    "\n",
    "model = initialize_model()"
   ]
  },
  {
   "cell_type": "markdown",
   "metadata": {},
   "source": [
    "---\n",
    "\n",
    "<details>\n",
    "    <summary><i>Intuitions about the optimization method</i></summary>\n",
    "\n",
    "We'll keep this message short as you have a full course 📆 **Deep Learning - Optimizers, Loss, Fitting** coming soon.\n",
    "    \n",
    "So, briefly speaking:\n",
    "    \n",
    "- the ***.compile()*** tells your algorithm how to optimize the weights of your network when fitting the network on real data\n",
    "    - the ***binary_crossentropy*** is the \"log-loss\" that you have already seen in Machine Learning in the context of a Logistic Regression for classification\n",
    "    - To date, the ***adam*** optimizer is the gold standard in Deep Learning - an optimizer in Deep Learning is like a solver in Machine Learning: it provides an iterative method to minimize the loss function of an algorithm with respect to its parameters\n",
    "    \n",
    "</details>\n",
    "\n",
    "---"
   ]
  },
  {
   "cell_type": "markdown",
   "metadata": {},
   "source": [
    "\n",
    "\n",
    "❓ How many parameters does the model have?  ❓\n",
    "\n",
    "<details>\n",
    "    <summary><i>Hint</i></summary>\n",
    "\n",
    "The `.summary()`method displays:\n",
    "   - the stack of layers of your Neural Network\n",
    "   - the output shape after each layer\n",
    "   - the number of parameters for each layer (and consequently the total number of parameters)\n",
    "    \n",
    "</details>\n"
   ]
  },
  {
   "cell_type": "code",
   "execution_count": 10,
   "metadata": {
    "tags": [
     "challengify"
    ]
   },
   "outputs": [
    {
     "name": "stdout",
     "output_type": "stream",
     "text": [
      "Model: \"sequential\"\n",
      "_________________________________________________________________\n",
      " Layer (type)                Output Shape              Param #   \n",
      "=================================================================\n",
      " dense (Dense)               (None, 5)                 15        \n",
      "                                                                 \n",
      " dense_1 (Dense)             (None, 1)                 6         \n",
      "                                                                 \n",
      "=================================================================\n",
      "Total params: 21 (84.00 Byte)\n",
      "Trainable params: 21 (84.00 Byte)\n",
      "Non-trainable params: 0 (0.00 Byte)\n",
      "_________________________________________________________________\n"
     ]
    }
   ],
   "source": [
    "model.summary()"
   ]
  },
  {
   "cell_type": "markdown",
   "metadata": {},
   "source": [
    "## (3) Training your Neural Network"
   ]
  },
  {
   "cell_type": "markdown",
   "metadata": {},
   "source": [
    "❓You are now ready to train your algorithm. \n",
    "\n",
    "Let's go! Initialize your model and fit it on the training set using `100 epochs`! \n",
    "\n",
    "Store the results of the training into a `history` variable. ❓"
   ]
  },
  {
   "cell_type": "code",
   "execution_count": 11,
   "metadata": {
    "tags": [
     "challengify"
    ]
   },
   "outputs": [
    {
     "name": "stdout",
     "output_type": "stream",
     "text": [
      "Epoch 1/100\n",
      "11/11 [==============================] - 1s 2ms/step - loss: 0.6350 - accuracy: 0.7429\n",
      "Epoch 2/100\n",
      "11/11 [==============================] - 0s 2ms/step - loss: 0.6255 - accuracy: 0.7657\n",
      "Epoch 3/100\n",
      "11/11 [==============================] - 0s 2ms/step - loss: 0.6168 - accuracy: 0.7829\n",
      "Epoch 4/100\n",
      "11/11 [==============================] - 0s 2ms/step - loss: 0.6081 - accuracy: 0.8171\n",
      "Epoch 5/100\n",
      "11/11 [==============================] - 0s 2ms/step - loss: 0.5995 - accuracy: 0.8229\n",
      "Epoch 6/100\n",
      "11/11 [==============================] - 0s 2ms/step - loss: 0.5912 - accuracy: 0.8457\n",
      "Epoch 7/100\n",
      "11/11 [==============================] - 0s 2ms/step - loss: 0.5825 - accuracy: 0.8400\n",
      "Epoch 8/100\n",
      "11/11 [==============================] - 0s 2ms/step - loss: 0.5743 - accuracy: 0.8571\n",
      "Epoch 9/100\n",
      "11/11 [==============================] - 0s 2ms/step - loss: 0.5659 - accuracy: 0.8629\n",
      "Epoch 10/100\n",
      "11/11 [==============================] - 0s 2ms/step - loss: 0.5576 - accuracy: 0.8571\n",
      "Epoch 11/100\n",
      "11/11 [==============================] - 0s 2ms/step - loss: 0.5495 - accuracy: 0.8571\n",
      "Epoch 12/100\n",
      "11/11 [==============================] - 0s 2ms/step - loss: 0.5408 - accuracy: 0.8629\n",
      "Epoch 13/100\n",
      "11/11 [==============================] - 0s 2ms/step - loss: 0.5328 - accuracy: 0.8629\n",
      "Epoch 14/100\n",
      "11/11 [==============================] - 0s 2ms/step - loss: 0.5243 - accuracy: 0.8571\n",
      "Epoch 15/100\n",
      "11/11 [==============================] - 0s 2ms/step - loss: 0.5160 - accuracy: 0.8514\n",
      "Epoch 16/100\n",
      "11/11 [==============================] - 0s 2ms/step - loss: 0.5072 - accuracy: 0.8571\n",
      "Epoch 17/100\n",
      "11/11 [==============================] - 0s 2ms/step - loss: 0.4989 - accuracy: 0.8514\n",
      "Epoch 18/100\n",
      "11/11 [==============================] - 0s 2ms/step - loss: 0.4903 - accuracy: 0.8457\n",
      "Epoch 19/100\n",
      "11/11 [==============================] - 0s 2ms/step - loss: 0.4812 - accuracy: 0.8514\n",
      "Epoch 20/100\n",
      "11/11 [==============================] - 0s 2ms/step - loss: 0.4723 - accuracy: 0.8514\n",
      "Epoch 21/100\n",
      "11/11 [==============================] - 0s 1ms/step - loss: 0.4633 - accuracy: 0.8514\n",
      "Epoch 22/100\n",
      "11/11 [==============================] - 0s 2ms/step - loss: 0.4548 - accuracy: 0.8514\n",
      "Epoch 23/100\n",
      "11/11 [==============================] - 0s 2ms/step - loss: 0.4466 - accuracy: 0.8514\n",
      "Epoch 24/100\n",
      "11/11 [==============================] - 0s 2ms/step - loss: 0.4382 - accuracy: 0.8514\n",
      "Epoch 25/100\n",
      "11/11 [==============================] - 0s 2ms/step - loss: 0.4306 - accuracy: 0.8514\n",
      "Epoch 26/100\n",
      "11/11 [==============================] - 0s 2ms/step - loss: 0.4234 - accuracy: 0.8514\n",
      "Epoch 27/100\n",
      "11/11 [==============================] - 0s 2ms/step - loss: 0.4162 - accuracy: 0.8514\n",
      "Epoch 28/100\n",
      "11/11 [==============================] - 0s 2ms/step - loss: 0.4091 - accuracy: 0.8514\n",
      "Epoch 29/100\n",
      "11/11 [==============================] - 0s 2ms/step - loss: 0.4028 - accuracy: 0.8514\n",
      "Epoch 30/100\n",
      "11/11 [==============================] - 0s 2ms/step - loss: 0.3968 - accuracy: 0.8514\n",
      "Epoch 31/100\n",
      "11/11 [==============================] - 0s 2ms/step - loss: 0.3910 - accuracy: 0.8514\n",
      "Epoch 32/100\n",
      "11/11 [==============================] - 0s 2ms/step - loss: 0.3853 - accuracy: 0.8514\n",
      "Epoch 33/100\n",
      "11/11 [==============================] - 0s 2ms/step - loss: 0.3801 - accuracy: 0.8514\n",
      "Epoch 34/100\n",
      "11/11 [==============================] - 0s 2ms/step - loss: 0.3750 - accuracy: 0.8514\n",
      "Epoch 35/100\n",
      "11/11 [==============================] - 0s 2ms/step - loss: 0.3703 - accuracy: 0.8514\n",
      "Epoch 36/100\n",
      "11/11 [==============================] - 0s 2ms/step - loss: 0.3659 - accuracy: 0.8514\n",
      "Epoch 37/100\n",
      "11/11 [==============================] - 0s 2ms/step - loss: 0.3618 - accuracy: 0.8457\n",
      "Epoch 38/100\n",
      "11/11 [==============================] - 0s 2ms/step - loss: 0.3580 - accuracy: 0.8457\n",
      "Epoch 39/100\n",
      "11/11 [==============================] - 0s 1ms/step - loss: 0.3539 - accuracy: 0.8457\n",
      "Epoch 40/100\n",
      "11/11 [==============================] - 0s 2ms/step - loss: 0.3504 - accuracy: 0.8457\n",
      "Epoch 41/100\n",
      "11/11 [==============================] - 0s 2ms/step - loss: 0.3470 - accuracy: 0.8457\n",
      "Epoch 42/100\n",
      "11/11 [==============================] - 0s 2ms/step - loss: 0.3438 - accuracy: 0.8457\n",
      "Epoch 43/100\n",
      "11/11 [==============================] - 0s 2ms/step - loss: 0.3409 - accuracy: 0.8457\n",
      "Epoch 44/100\n",
      "11/11 [==============================] - 0s 7ms/step - loss: 0.3379 - accuracy: 0.8457\n",
      "Epoch 45/100\n",
      "11/11 [==============================] - 0s 1ms/step - loss: 0.3354 - accuracy: 0.8457\n",
      "Epoch 46/100\n",
      "11/11 [==============================] - 0s 2ms/step - loss: 0.3328 - accuracy: 0.8457\n",
      "Epoch 47/100\n",
      "11/11 [==============================] - 0s 2ms/step - loss: 0.3305 - accuracy: 0.8457\n",
      "Epoch 48/100\n",
      "11/11 [==============================] - 0s 2ms/step - loss: 0.3282 - accuracy: 0.8457\n",
      "Epoch 49/100\n",
      "11/11 [==============================] - 0s 2ms/step - loss: 0.3257 - accuracy: 0.8457\n",
      "Epoch 50/100\n",
      "11/11 [==============================] - 0s 2ms/step - loss: 0.3240 - accuracy: 0.8514\n",
      "Epoch 51/100\n",
      "11/11 [==============================] - 0s 2ms/step - loss: 0.3217 - accuracy: 0.8514\n",
      "Epoch 52/100\n",
      "11/11 [==============================] - 0s 2ms/step - loss: 0.3200 - accuracy: 0.8514\n",
      "Epoch 53/100\n",
      "11/11 [==============================] - 0s 2ms/step - loss: 0.3183 - accuracy: 0.8514\n",
      "Epoch 54/100\n",
      "11/11 [==============================] - 0s 2ms/step - loss: 0.3164 - accuracy: 0.8514\n",
      "Epoch 55/100\n",
      "11/11 [==============================] - 0s 2ms/step - loss: 0.3147 - accuracy: 0.8514\n",
      "Epoch 56/100\n",
      "11/11 [==============================] - 0s 2ms/step - loss: 0.3130 - accuracy: 0.8514\n",
      "Epoch 57/100\n",
      "11/11 [==============================] - 0s 2ms/step - loss: 0.3116 - accuracy: 0.8514\n",
      "Epoch 58/100\n",
      "11/11 [==============================] - 0s 2ms/step - loss: 0.3101 - accuracy: 0.8514\n",
      "Epoch 59/100\n",
      "11/11 [==============================] - 0s 2ms/step - loss: 0.3088 - accuracy: 0.8571\n",
      "Epoch 60/100\n",
      "11/11 [==============================] - 0s 2ms/step - loss: 0.3074 - accuracy: 0.8571\n",
      "Epoch 61/100\n",
      "11/11 [==============================] - 0s 2ms/step - loss: 0.3063 - accuracy: 0.8571\n",
      "Epoch 62/100\n",
      "11/11 [==============================] - 0s 2ms/step - loss: 0.3049 - accuracy: 0.8571\n",
      "Epoch 63/100\n",
      "11/11 [==============================] - 0s 2ms/step - loss: 0.3037 - accuracy: 0.8571\n",
      "Epoch 64/100\n",
      "11/11 [==============================] - 0s 2ms/step - loss: 0.3027 - accuracy: 0.8571\n",
      "Epoch 65/100\n",
      "11/11 [==============================] - 0s 2ms/step - loss: 0.3015 - accuracy: 0.8571\n",
      "Epoch 66/100\n",
      "11/11 [==============================] - 0s 2ms/step - loss: 0.3006 - accuracy: 0.8571\n",
      "Epoch 67/100\n",
      "11/11 [==============================] - 0s 2ms/step - loss: 0.2995 - accuracy: 0.8571\n",
      "Epoch 68/100\n",
      "11/11 [==============================] - 0s 2ms/step - loss: 0.2986 - accuracy: 0.8629\n",
      "Epoch 69/100\n",
      "11/11 [==============================] - 0s 2ms/step - loss: 0.2977 - accuracy: 0.8629\n",
      "Epoch 70/100\n",
      "11/11 [==============================] - 0s 2ms/step - loss: 0.2966 - accuracy: 0.8629\n",
      "Epoch 71/100\n",
      "11/11 [==============================] - 0s 1ms/step - loss: 0.2957 - accuracy: 0.8629\n",
      "Epoch 72/100\n",
      "11/11 [==============================] - 0s 2ms/step - loss: 0.2950 - accuracy: 0.8629\n",
      "Epoch 73/100\n",
      "11/11 [==============================] - 0s 2ms/step - loss: 0.2940 - accuracy: 0.8629\n",
      "Epoch 74/100\n",
      "11/11 [==============================] - 0s 2ms/step - loss: 0.2931 - accuracy: 0.8629\n",
      "Epoch 75/100\n",
      "11/11 [==============================] - 0s 2ms/step - loss: 0.2924 - accuracy: 0.8629\n",
      "Epoch 76/100\n",
      "11/11 [==============================] - 0s 1ms/step - loss: 0.2916 - accuracy: 0.8629\n",
      "Epoch 77/100\n",
      "11/11 [==============================] - 0s 1ms/step - loss: 0.2908 - accuracy: 0.8629\n",
      "Epoch 78/100\n",
      "11/11 [==============================] - 0s 2ms/step - loss: 0.2901 - accuracy: 0.8686\n",
      "Epoch 79/100\n",
      "11/11 [==============================] - 0s 2ms/step - loss: 0.2895 - accuracy: 0.8686\n",
      "Epoch 80/100\n",
      "11/11 [==============================] - 0s 2ms/step - loss: 0.2888 - accuracy: 0.8686\n",
      "Epoch 81/100\n",
      "11/11 [==============================] - 0s 2ms/step - loss: 0.2881 - accuracy: 0.8743\n",
      "Epoch 82/100\n",
      "11/11 [==============================] - 0s 2ms/step - loss: 0.2875 - accuracy: 0.8743\n",
      "Epoch 83/100\n"
     ]
    },
    {
     "name": "stdout",
     "output_type": "stream",
     "text": [
      "11/11 [==============================] - 0s 1ms/step - loss: 0.2868 - accuracy: 0.8743\n",
      "Epoch 84/100\n",
      "11/11 [==============================] - 0s 1ms/step - loss: 0.2862 - accuracy: 0.8743\n",
      "Epoch 85/100\n",
      "11/11 [==============================] - 0s 2ms/step - loss: 0.2857 - accuracy: 0.8743\n",
      "Epoch 86/100\n",
      "11/11 [==============================] - 0s 2ms/step - loss: 0.2851 - accuracy: 0.8743\n",
      "Epoch 87/100\n",
      "11/11 [==============================] - 0s 2ms/step - loss: 0.2844 - accuracy: 0.8743\n",
      "Epoch 88/100\n",
      "11/11 [==============================] - 0s 2ms/step - loss: 0.2839 - accuracy: 0.8743\n",
      "Epoch 89/100\n",
      "11/11 [==============================] - 0s 2ms/step - loss: 0.2835 - accuracy: 0.8743\n",
      "Epoch 90/100\n",
      "11/11 [==============================] - 0s 7ms/step - loss: 0.2828 - accuracy: 0.8743\n",
      "Epoch 91/100\n",
      "11/11 [==============================] - 0s 2ms/step - loss: 0.2823 - accuracy: 0.8743\n",
      "Epoch 92/100\n",
      "11/11 [==============================] - 0s 2ms/step - loss: 0.2818 - accuracy: 0.8743\n",
      "Epoch 93/100\n",
      "11/11 [==============================] - 0s 2ms/step - loss: 0.2817 - accuracy: 0.8743\n",
      "Epoch 94/100\n",
      "11/11 [==============================] - 0s 2ms/step - loss: 0.2809 - accuracy: 0.8743\n",
      "Epoch 95/100\n",
      "11/11 [==============================] - 0s 2ms/step - loss: 0.2802 - accuracy: 0.8743\n",
      "Epoch 96/100\n",
      "11/11 [==============================] - 0s 2ms/step - loss: 0.2797 - accuracy: 0.8743\n",
      "Epoch 97/100\n",
      "11/11 [==============================] - 0s 2ms/step - loss: 0.2791 - accuracy: 0.8743\n",
      "Epoch 98/100\n",
      "11/11 [==============================] - 0s 2ms/step - loss: 0.2786 - accuracy: 0.8743\n",
      "Epoch 99/100\n",
      "11/11 [==============================] - 0s 2ms/step - loss: 0.2783 - accuracy: 0.8743\n",
      "Epoch 100/100\n",
      "11/11 [==============================] - 0s 2ms/step - loss: 0.2778 - accuracy: 0.8743\n"
     ]
    }
   ],
   "source": [
    "history = model.fit(X_train, y_train, batch_size=16, epochs=100)"
   ]
  },
  {
   "cell_type": "markdown",
   "metadata": {},
   "source": [
    "👀 `history` contains information about the training.\n",
    "\n",
    "❓ Inspect all its attributes using `history.__dict__`. You will notice that you have access to epoch-by-epoch information stored in `history.history`"
   ]
  },
  {
   "cell_type": "code",
   "execution_count": 12,
   "metadata": {
    "tags": [
     "challengify"
    ]
   },
   "outputs": [
    {
     "data": {
      "text/plain": [
       "{'validation_data': None,\n",
       " 'model': <keras.src.engine.sequential.Sequential at 0x15d067460>,\n",
       " '_chief_worker_only': None,\n",
       " '_supports_tf_logs': False,\n",
       " 'history': {'loss': [0.6349687576293945,\n",
       "   0.6255390048027039,\n",
       "   0.6168378591537476,\n",
       "   0.6081352233886719,\n",
       "   0.5994682312011719,\n",
       "   0.5912361145019531,\n",
       "   0.58250492811203,\n",
       "   0.5743478536605835,\n",
       "   0.5658972859382629,\n",
       "   0.5575974583625793,\n",
       "   0.5494938492774963,\n",
       "   0.540819525718689,\n",
       "   0.532817006111145,\n",
       "   0.5242975950241089,\n",
       "   0.5160326361656189,\n",
       "   0.5071502327919006,\n",
       "   0.4989217221736908,\n",
       "   0.49034497141838074,\n",
       "   0.481180340051651,\n",
       "   0.4722663164138794,\n",
       "   0.463321328163147,\n",
       "   0.4547954797744751,\n",
       "   0.44657522439956665,\n",
       "   0.4381692111492157,\n",
       "   0.43056344985961914,\n",
       "   0.4233812093734741,\n",
       "   0.41617539525032043,\n",
       "   0.4090964198112488,\n",
       "   0.40281957387924194,\n",
       "   0.39676254987716675,\n",
       "   0.3910038471221924,\n",
       "   0.3852933943271637,\n",
       "   0.3801391124725342,\n",
       "   0.3750446140766144,\n",
       "   0.37028852105140686,\n",
       "   0.3659036159515381,\n",
       "   0.3617965281009674,\n",
       "   0.3580021560192108,\n",
       "   0.3539341390132904,\n",
       "   0.3504026532173157,\n",
       "   0.3470461070537567,\n",
       "   0.343792587518692,\n",
       "   0.34094980359077454,\n",
       "   0.33792048692703247,\n",
       "   0.33542391657829285,\n",
       "   0.332821249961853,\n",
       "   0.33050093054771423,\n",
       "   0.3281516432762146,\n",
       "   0.3257406949996948,\n",
       "   0.3239873945713043,\n",
       "   0.3217483162879944,\n",
       "   0.3199509084224701,\n",
       "   0.318281352519989,\n",
       "   0.31639277935028076,\n",
       "   0.3147417902946472,\n",
       "   0.3130005896091461,\n",
       "   0.3116418719291687,\n",
       "   0.31005117297172546,\n",
       "   0.308785080909729,\n",
       "   0.3074083626270294,\n",
       "   0.30634191632270813,\n",
       "   0.3049488067626953,\n",
       "   0.30373334884643555,\n",
       "   0.30269598960876465,\n",
       "   0.3014664649963379,\n",
       "   0.3005722165107727,\n",
       "   0.2994672358036041,\n",
       "   0.2985895276069641,\n",
       "   0.29769837856292725,\n",
       "   0.2965516149997711,\n",
       "   0.2957124412059784,\n",
       "   0.29500842094421387,\n",
       "   0.29401493072509766,\n",
       "   0.29311707615852356,\n",
       "   0.29236623644828796,\n",
       "   0.29157754778862,\n",
       "   0.29082468152046204,\n",
       "   0.29007795453071594,\n",
       "   0.2894603908061981,\n",
       "   0.28880012035369873,\n",
       "   0.2880519926548004,\n",
       "   0.2874809801578522,\n",
       "   0.2868395447731018,\n",
       "   0.2861953377723694,\n",
       "   0.2857237160205841,\n",
       "   0.2851082384586334,\n",
       "   0.28441956639289856,\n",
       "   0.28385215997695923,\n",
       "   0.2834918797016144,\n",
       "   0.28275904059410095,\n",
       "   0.2823369801044464,\n",
       "   0.2817624807357788,\n",
       "   0.2817073166370392,\n",
       "   0.28087589144706726,\n",
       "   0.2802191972732544,\n",
       "   0.27972719073295593,\n",
       "   0.27911660075187683,\n",
       "   0.27864402532577515,\n",
       "   0.27827057242393494,\n",
       "   0.2777774930000305],\n",
       "  'accuracy': [0.7428571581840515,\n",
       "   0.7657142877578735,\n",
       "   0.7828571200370789,\n",
       "   0.8171428442001343,\n",
       "   0.822857141494751,\n",
       "   0.845714271068573,\n",
       "   0.8399999737739563,\n",
       "   0.8571428656578064,\n",
       "   0.8628571629524231,\n",
       "   0.8571428656578064,\n",
       "   0.8571428656578064,\n",
       "   0.8628571629524231,\n",
       "   0.8628571629524231,\n",
       "   0.8571428656578064,\n",
       "   0.8514285683631897,\n",
       "   0.8571428656578064,\n",
       "   0.8514285683631897,\n",
       "   0.845714271068573,\n",
       "   0.8514285683631897,\n",
       "   0.8514285683631897,\n",
       "   0.8514285683631897,\n",
       "   0.8514285683631897,\n",
       "   0.8514285683631897,\n",
       "   0.8514285683631897,\n",
       "   0.8514285683631897,\n",
       "   0.8514285683631897,\n",
       "   0.8514285683631897,\n",
       "   0.8514285683631897,\n",
       "   0.8514285683631897,\n",
       "   0.8514285683631897,\n",
       "   0.8514285683631897,\n",
       "   0.8514285683631897,\n",
       "   0.8514285683631897,\n",
       "   0.8514285683631897,\n",
       "   0.8514285683631897,\n",
       "   0.8514285683631897,\n",
       "   0.845714271068573,\n",
       "   0.845714271068573,\n",
       "   0.845714271068573,\n",
       "   0.845714271068573,\n",
       "   0.845714271068573,\n",
       "   0.845714271068573,\n",
       "   0.845714271068573,\n",
       "   0.845714271068573,\n",
       "   0.845714271068573,\n",
       "   0.845714271068573,\n",
       "   0.845714271068573,\n",
       "   0.845714271068573,\n",
       "   0.845714271068573,\n",
       "   0.8514285683631897,\n",
       "   0.8514285683631897,\n",
       "   0.8514285683631897,\n",
       "   0.8514285683631897,\n",
       "   0.8514285683631897,\n",
       "   0.8514285683631897,\n",
       "   0.8514285683631897,\n",
       "   0.8514285683631897,\n",
       "   0.8514285683631897,\n",
       "   0.8571428656578064,\n",
       "   0.8571428656578064,\n",
       "   0.8571428656578064,\n",
       "   0.8571428656578064,\n",
       "   0.8571428656578064,\n",
       "   0.8571428656578064,\n",
       "   0.8571428656578064,\n",
       "   0.8571428656578064,\n",
       "   0.8571428656578064,\n",
       "   0.8628571629524231,\n",
       "   0.8628571629524231,\n",
       "   0.8628571629524231,\n",
       "   0.8628571629524231,\n",
       "   0.8628571629524231,\n",
       "   0.8628571629524231,\n",
       "   0.8628571629524231,\n",
       "   0.8628571629524231,\n",
       "   0.8628571629524231,\n",
       "   0.8628571629524231,\n",
       "   0.868571400642395,\n",
       "   0.868571400642395,\n",
       "   0.868571400642395,\n",
       "   0.8742856979370117,\n",
       "   0.8742856979370117,\n",
       "   0.8742856979370117,\n",
       "   0.8742856979370117,\n",
       "   0.8742856979370117,\n",
       "   0.8742856979370117,\n",
       "   0.8742856979370117,\n",
       "   0.8742856979370117,\n",
       "   0.8742856979370117,\n",
       "   0.8742856979370117,\n",
       "   0.8742856979370117,\n",
       "   0.8742856979370117,\n",
       "   0.8742856979370117,\n",
       "   0.8742856979370117,\n",
       "   0.8742856979370117,\n",
       "   0.8742856979370117,\n",
       "   0.8742856979370117,\n",
       "   0.8742856979370117,\n",
       "   0.8742856979370117,\n",
       "   0.8742856979370117]},\n",
       " 'params': {'verbose': 1, 'epochs': 100, 'steps': 11},\n",
       " 'epoch': [0,\n",
       "  1,\n",
       "  2,\n",
       "  3,\n",
       "  4,\n",
       "  5,\n",
       "  6,\n",
       "  7,\n",
       "  8,\n",
       "  9,\n",
       "  10,\n",
       "  11,\n",
       "  12,\n",
       "  13,\n",
       "  14,\n",
       "  15,\n",
       "  16,\n",
       "  17,\n",
       "  18,\n",
       "  19,\n",
       "  20,\n",
       "  21,\n",
       "  22,\n",
       "  23,\n",
       "  24,\n",
       "  25,\n",
       "  26,\n",
       "  27,\n",
       "  28,\n",
       "  29,\n",
       "  30,\n",
       "  31,\n",
       "  32,\n",
       "  33,\n",
       "  34,\n",
       "  35,\n",
       "  36,\n",
       "  37,\n",
       "  38,\n",
       "  39,\n",
       "  40,\n",
       "  41,\n",
       "  42,\n",
       "  43,\n",
       "  44,\n",
       "  45,\n",
       "  46,\n",
       "  47,\n",
       "  48,\n",
       "  49,\n",
       "  50,\n",
       "  51,\n",
       "  52,\n",
       "  53,\n",
       "  54,\n",
       "  55,\n",
       "  56,\n",
       "  57,\n",
       "  58,\n",
       "  59,\n",
       "  60,\n",
       "  61,\n",
       "  62,\n",
       "  63,\n",
       "  64,\n",
       "  65,\n",
       "  66,\n",
       "  67,\n",
       "  68,\n",
       "  69,\n",
       "  70,\n",
       "  71,\n",
       "  72,\n",
       "  73,\n",
       "  74,\n",
       "  75,\n",
       "  76,\n",
       "  77,\n",
       "  78,\n",
       "  79,\n",
       "  80,\n",
       "  81,\n",
       "  82,\n",
       "  83,\n",
       "  84,\n",
       "  85,\n",
       "  86,\n",
       "  87,\n",
       "  88,\n",
       "  89,\n",
       "  90,\n",
       "  91,\n",
       "  92,\n",
       "  93,\n",
       "  94,\n",
       "  95,\n",
       "  96,\n",
       "  97,\n",
       "  98,\n",
       "  99]}"
      ]
     },
     "execution_count": 12,
     "metadata": {},
     "output_type": "execute_result"
    }
   ],
   "source": [
    "history.__dict__"
   ]
  },
  {
   "cell_type": "markdown",
   "metadata": {},
   "source": [
    "❓ Plot the history of the train loss using the following function ❓"
   ]
  },
  {
   "cell_type": "code",
   "execution_count": 13,
   "metadata": {},
   "outputs": [],
   "source": [
    "def plot_history(history):\n",
    "    plt.plot(history.history['loss'])\n",
    "    plt.title('Train loss')\n",
    "    plt.ylabel('Loss')\n",
    "    plt.xlabel('Epoch')\n",
    "    plt.show()"
   ]
  },
  {
   "cell_type": "code",
   "execution_count": 14,
   "metadata": {
    "tags": [
     "challengify"
    ]
   },
   "outputs": [
    {
     "data": {
      "image/png": "[encoded data removed]",
      "text/plain": [
       "<Figure size 640x480 with 1 Axes>"
      ]
     },
     "metadata": {},
     "output_type": "display_data"
    }
   ],
   "source": [
    "plot_history(history)"
   ]
  },
  {
   "cell_type": "markdown",
   "metadata": {},
   "source": [
    "❓ What do you observe ❓"
   ]
  },
  {
   "cell_type": "markdown",
   "metadata": {
    "tags": [
     "challengify"
    ]
   },
   "source": [
    "> YOUR ANSWER HERE"
   ]
  },
  {
   "cell_type": "markdown",
   "metadata": {},
   "source": [
    "❗️ <u>Evaluation on unseen data</u> ❗️\n",
    "\n",
    "🧑🏻‍🏫 A Deep Learning Model is like any other Machine Learning model. Once you've trained it on the training set and are satisfied with how the Neural Network was able to learn, you need to ask: can it be generalized to unseen data such as the test set? \n",
    "\n"
   ]
  },
  {
   "cell_type": "markdown",
   "metadata": {},
   "source": [
    "## (4) Predict & Evaluate performance on test set"
   ]
  },
  {
   "cell_type": "markdown",
   "metadata": {},
   "source": [
    "❓ Predict the classes of the elements in the training set using _.predict()_ and store these predicted classes into a variable called `y_pred` ❓"
   ]
  },
  {
   "cell_type": "code",
   "execution_count": 15,
   "metadata": {
    "tags": [
     "challengify"
    ]
   },
   "outputs": [
    {
     "name": "stdout",
     "output_type": "stream",
     "text": [
      "3/3 [==============================] - 0s 2ms/step\n"
     ]
    }
   ],
   "source": [
    "y_pred = model.predict(X_test)"
   ]
  },
  {
   "cell_type": "markdown",
   "metadata": {},
   "source": [
    "❓ What are your _loss_ and your _accuracy_ on the test set ❓ \n",
    "\n",
    "💡 In other words, you are asked to evaluate your Deep Learning model!"
   ]
  },
  {
   "cell_type": "code",
   "execution_count": 16,
   "metadata": {},
   "outputs": [],
   "source": [
    "res = model.evaluate(X_test, y_test, verbose=0)\n",
    "\n",
    "loss = res[0]\n",
    "accuracy = res[1]"
   ]
  },
  {
   "cell_type": "code",
   "execution_count": 17,
   "metadata": {},
   "outputs": [
    {
     "name": "stdout",
     "output_type": "stream",
     "text": [
      "loss = binary crossentropy = 0.2909\n",
      "metrics = accuracy = 84.0 %\n"
     ]
    }
   ],
   "source": [
    "print(f'loss = binary crossentropy = {round(loss, 4)}')\n",
    "print(f'metrics = accuracy = {round(accuracy * 100, 4)} %')"
   ]
  },
  {
   "cell_type": "markdown",
   "metadata": {},
   "source": [
    "**🧪 Test your code**"
   ]
  },
  {
   "cell_type": "code",
   "execution_count": 18,
   "metadata": {},
   "outputs": [
    {
     "name": "stdout",
     "output_type": "stream",
     "text": [
      "\n",
      "\u001b[1m============================= test session starts ==============================\u001b[0m\n",
      "platform darwin -- Python 3.10.6, pytest-7.1.3, pluggy-1.0.0 -- /Users/renatoboemer/.pyenv/versions/lewagon/bin/python3\n",
      "cachedir: .pytest_cache\n",
      "rootdir: /Users/renatoboemer/code/lewagon/data-your-first-neural-network/tests\n",
      "plugins: asyncio-0.19.0, typeguard-2.13.3, cov-4.0.0, anyio-3.6.2\n",
      "asyncio: mode=strict\n",
      "\u001b[1mcollecting ... \u001b[0mcollected 1 item\n",
      "\n",
      "test_first_model.py::TestFirstModel::test_accuracy \u001b[32mPASSED\u001b[0m\u001b[32m                [100%]\u001b[0m\n",
      "\n",
      "\u001b[32m============================== \u001b[32m\u001b[1m1 passed\u001b[0m\u001b[32m in 0.02s\u001b[0m\u001b[32m ===============================\u001b[0m\n",
      "\n",
      "\n",
      "💯 You can commit your code:\n",
      "\n",
      "\u001b[1;32mgit\u001b[39m add tests/first_model.pickle\n",
      "\n",
      "\u001b[32mgit\u001b[39m commit -m \u001b[33m'Completed first_model step'\u001b[39m\n",
      "\n",
      "\u001b[32mgit\u001b[39m push origin master\n",
      "\n"
     ]
    }
   ],
   "source": [
    "from nbresult import ChallengeResult\n",
    "result = ChallengeResult('first_model', accuracy=accuracy)\n",
    "result.write()\n",
    "print(result.check())"
   ]
  },
  {
   "cell_type": "markdown",
   "metadata": {},
   "source": [
    "❓ Check the accuracy of your predictions visually by using our `plot_decision_regions` available in `utils/plots.py` ❓"
   ]
  },
  {
   "cell_type": "code",
   "execution_count": 19,
   "metadata": {
    "tags": [
     "challengify"
    ]
   },
   "outputs": [
    {
     "name": "stdout",
     "output_type": "stream",
     "text": [
      "1940/1940 [==============================] - 2s 864us/step\n"
     ]
    },
    {
     "data": {
      "image/png": "[encoded data removed]",
      "text/plain": [
       "<Figure size 640x480 with 1 Axes>"
      ]
     },
     "metadata": {},
     "output_type": "display_data"
    }
   ],
   "source": [
    "from utils.plots import plot_decision_regions\n",
    "\n",
    "plot_decision_regions(X, y, model)"
   ]
  },
  {
   "cell_type": "markdown",
   "metadata": {},
   "source": [
    "😥 It looks like we are **underfitting** a bit, right? \n",
    "\n",
    "😁 We can try :\n",
    "- to train the model a bit longer...\n",
    "- ...or maybe to create a Deeper Neural network in the next section!"
   ]
  },
  {
   "cell_type": "markdown",
   "metadata": {},
   "source": [
    "## (5) Training your Neural Network with more epochs"
   ]
  },
  {
   "cell_type": "markdown",
   "metadata": {},
   "source": [
    "❓ Re-train the model for 500 iterations ❓\n",
    "- Don't forget to call the `initialize_model` function, otherwise, your initial parameters will be those you have already learned on the previous _.fit()_ ...!)\n",
    "- Plot the history to see how the loss changed over the different epochs/iterations."
   ]
  },
  {
   "cell_type": "code",
   "execution_count": 22,
   "metadata": {
    "tags": [
     "challengify"
    ]
   },
   "outputs": [],
   "source": [
    "def initialize_model():\n",
    "    model = Sequential()\n",
    "    model.add(layers.Dense(5, activation='relu', input_dim=2))\n",
    "    model.add(layers.Dense(1, activation='sigmoid'))\n",
    "    \n",
    "    model.compile(loss='binary_crossentropy',\n",
    "                  optimizer='adam',\n",
    "                  metrics=['accuracy'])\n",
    "    return model"
   ]
  },
  {
   "cell_type": "code",
   "execution_count": 23,
   "metadata": {
    "tags": [
     "challengify"
    ]
   },
   "outputs": [],
   "source": [
    "model = initialize_model()"
   ]
  },
  {
   "cell_type": "code",
   "execution_count": 24,
   "metadata": {},
   "outputs": [
    {
     "data": {
      "image/png": "[encoded data removed]",
      "text/plain": [
       "<Figure size 640x480 with 1 Axes>"
      ]
     },
     "metadata": {},
     "output_type": "display_data"
    }
   ],
   "source": [
    "history = model.fit(X_train, y_train,\n",
    "                    epochs=500,\n",
    "                    batch_size=16,\n",
    "                    verbose=0)\n",
    "\n",
    "plot_history(history)"
   ]
  },
  {
   "cell_type": "markdown",
   "metadata": {},
   "source": [
    "❓ Did the test accuracy improve? ❓"
   ]
  },
  {
   "cell_type": "code",
   "execution_count": 26,
   "metadata": {
    "tags": [
     "challengify"
    ]
   },
   "outputs": [
    {
     "name": "stdout",
     "output_type": "stream",
     "text": [
      "0.8533333539962769\n"
     ]
    }
   ],
   "source": [
    "results = model.evaluate(X_test, y_test, verbose=0)\n",
    "print(results[1])"
   ]
  },
  {
   "cell_type": "markdown",
   "metadata": {},
   "source": [
    "<details>\n",
    "    <summary><i>Not really... explanations here</i></summary>\n",
    "\n",
    "* The accuracy did not increase by training the model with more epochs...\n",
    "* So when should have we stopped the training of this Deep Learning Model?\n",
    "    * Answer in the next chapter <b><i>Deep Learning - Optimizers, Loss and Fitting</i></b>\n",
    "    \n",
    "</details>"
   ]
  },
  {
   "cell_type": "markdown",
   "metadata": {},
   "source": [
    "## (6) A Deeper Deep Learning Model"
   ]
  },
  {
   "cell_type": "markdown",
   "metadata": {},
   "source": [
    "❓ Let's try a **deeper** architecture that includes the following layers:\n",
    "\n",
    "- a first layer with 20 neurons (activation: `\"relu\"`)\n",
    "- a second layer with 10 neurons (activation: `\"relu\"`)\n",
    "- a third layer with 5 neurons (activation: `\"relu\"`)\n",
    "- an output layer suitable for this problem ❓\n"
   ]
  },
  {
   "cell_type": "code",
   "execution_count": 27,
   "metadata": {},
   "outputs": [],
   "source": [
    "def initialize_model_2():\n",
    "    model = Sequential()\n",
    "    model.add(layers.Dense(20, activation='relu', input_dim=2))\n",
    "    model.add(layers.Dense(10, activation='relu'))\n",
    "    model.add(layers.Dense(5, activation='relu'))\n",
    "    model.add(layers.Dense(1, activation='sigmoid'))\n",
    "        \n",
    "    model.compile(loss='binary_crossentropy', # We've already mentioned this loss function in Logistic Regression\n",
    "                  optimizer='adam', # Optimizer in Deep Learning = solver in Machine Learning | Adam = our best friend\n",
    "                  metrics=['accuracy']) # Let's focus on the accuracy, our dataset is balanced\n",
    "    \n",
    "    return model\n",
    "\n",
    "model = initialize_model_2()"
   ]
  },
  {
   "cell_type": "markdown",
   "metadata": {},
   "source": [
    "❓ What is the number of parameters of your new model ❓"
   ]
  },
  {
   "cell_type": "code",
   "execution_count": 28,
   "metadata": {
    "tags": [
     "challengify"
    ]
   },
   "outputs": [
    {
     "name": "stdout",
     "output_type": "stream",
     "text": [
      "Model: \"sequential_2\"\n",
      "_________________________________________________________________\n",
      " Layer (type)                Output Shape              Param #   \n",
      "=================================================================\n",
      " dense_4 (Dense)             (None, 20)                60        \n",
      "                                                                 \n",
      " dense_5 (Dense)             (None, 10)                210       \n",
      "                                                                 \n",
      " dense_6 (Dense)             (None, 5)                 55        \n",
      "                                                                 \n",
      " dense_7 (Dense)             (None, 1)                 6         \n",
      "                                                                 \n",
      "=================================================================\n",
      "Total params: 331 (1.29 KB)\n",
      "Trainable params: 331 (1.29 KB)\n",
      "Non-trainable params: 0 (0.00 Byte)\n",
      "_________________________________________________________________\n"
     ]
    }
   ],
   "source": [
    "model.summary()"
   ]
  },
  {
   "cell_type": "code",
   "execution_count": null,
   "metadata": {},
   "outputs": [],
   "source": []
  },
  {
   "cell_type": "markdown",
   "metadata": {},
   "source": [
    "❓ Run your model on the previous dataset for 500 epochs and plot the loss afterwards ❓"
   ]
  },
  {
   "cell_type": "code",
   "execution_count": 29,
   "metadata": {
    "tags": [
     "challengify"
    ]
   },
   "outputs": [],
   "source": [
    "history = model.fit(X_train, y_train,\n",
    "                    epochs=500,\n",
    "                    batch_size=16,\n",
    "                    verbose=0)"
   ]
  },
  {
   "cell_type": "code",
   "execution_count": 30,
   "metadata": {},
   "outputs": [
    {
     "data": {
      "image/png": "[encoded data removed]",
      "text/plain": [
       "<Figure size 640x480 with 1 Axes>"
      ]
     },
     "metadata": {},
     "output_type": "display_data"
    }
   ],
   "source": [
    "plot_history(history)"
   ]
  },
  {
   "cell_type": "markdown",
   "metadata": {},
   "source": [
    "❓ What is your accuracy on the test test ? Store it as `accuracy_deep` variable (`float`) ❓"
   ]
  },
  {
   "cell_type": "code",
   "execution_count": 31,
   "metadata": {
    "tags": [
     "challengify"
    ]
   },
   "outputs": [],
   "source": [
    "res = model.evaluate(X_test, y_test, verbose=0)\n",
    "\n",
    "accuracy_deep = res[1]"
   ]
  },
  {
   "cell_type": "code",
   "execution_count": 32,
   "metadata": {},
   "outputs": [
    {
     "data": {
      "text/plain": [
       "0.9200000166893005"
      ]
     },
     "execution_count": 32,
     "metadata": {},
     "output_type": "execute_result"
    }
   ],
   "source": [
    "accuracy_deep"
   ]
  },
  {
   "cell_type": "markdown",
   "metadata": {},
   "source": [
    "🧪 **Test your code**"
   ]
  },
  {
   "cell_type": "code",
   "execution_count": 33,
   "metadata": {},
   "outputs": [
    {
     "name": "stdout",
     "output_type": "stream",
     "text": [
      "\n",
      "\u001b[1m============================= test session starts ==============================\u001b[0m\n",
      "platform darwin -- Python 3.10.6, pytest-7.1.3, pluggy-1.0.0 -- /Users/renatoboemer/.pyenv/versions/lewagon/bin/python3\n",
      "cachedir: .pytest_cache\n",
      "rootdir: /Users/renatoboemer/code/lewagon/data-your-first-neural-network/tests\n",
      "plugins: asyncio-0.19.0, typeguard-2.13.3, cov-4.0.0, anyio-3.6.2\n",
      "asyncio: mode=strict\n",
      "\u001b[1mcollecting ... \u001b[0mcollected 1 item\n",
      "\n",
      "test_deeper_model.py::TestDeeperModel::test_accuracy \u001b[32mPASSED\u001b[0m\u001b[32m              [100%]\u001b[0m\n",
      "\n",
      "\u001b[32m============================== \u001b[32m\u001b[1m1 passed\u001b[0m\u001b[32m in 0.02s\u001b[0m\u001b[32m ===============================\u001b[0m\n",
      "\n",
      "\n",
      "💯 You can commit your code:\n",
      "\n",
      "\u001b[1;32mgit\u001b[39m add tests/deeper_model.pickle\n",
      "\n",
      "\u001b[32mgit\u001b[39m commit -m \u001b[33m'Completed deeper_model step'\u001b[39m\n",
      "\n",
      "\u001b[32mgit\u001b[39m push origin master\n",
      "\n"
     ]
    }
   ],
   "source": [
    "from nbresult import ChallengeResult\n",
    "result = ChallengeResult('deeper_model',\n",
    "                         accuracy=accuracy_deep)\n",
    "result.write()\n",
    "print(result.check())"
   ]
  },
  {
   "cell_type": "markdown",
   "metadata": {},
   "source": [
    "❓ Do you think we are overfitting on the noise ❓ Once again, use the `plot_decision_regions` function to help your intuition."
   ]
  },
  {
   "cell_type": "code",
   "execution_count": 34,
   "metadata": {
    "tags": [
     "challengify"
    ]
   },
   "outputs": [
    {
     "name": "stdout",
     "output_type": "stream",
     "text": [
      "1940/1940 [==============================] - 2s 891us/step\n"
     ]
    },
    {
     "data": {
      "image/png": "[encoded data removed]",
      "text/plain": [
       "<Figure size 640x480 with 1 Axes>"
      ]
     },
     "metadata": {},
     "output_type": "display_data"
    }
   ],
   "source": [
    "plot_decision_regions(X, y, model)"
   ]
  },
  {
   "cell_type": "code",
   "execution_count": null,
   "metadata": {},
   "outputs": [],
   "source": []
  },
  {
   "cell_type": "markdown",
   "metadata": {},
   "source": [
    "---\n",
    "\n",
    "🏁 Congratulations!\n",
    "\n",
    "💾 Don't forget to `git add/commit/push` your notebook...\n",
    "\n",
    "🚀 ... and move on to the next challenge!"
   ]
  }
 ],
 "metadata": {
  "kernelspec": {
   "display_name": "Python 3 (ipykernel)",
   "language": "python",
   "name": "python3"
  },
  "language_info": {
   "codemirror_mode": {
    "name": "ipython",
    "version": 3
   },
   "file_extension": ".py",
   "mimetype": "text/x-python",
   "name": "python",
   "nbconvert_exporter": "python",
   "pygments_lexer": "ipython3",
   "version": "3.10.6"
  },
  "toc": {
   "base_numbering": 1,
   "nav_menu": {},
   "number_sections": true,
   "sideBar": true,
   "skip_h1_title": false,
   "title_cell": "Table of Contents",
   "title_sidebar": "Contents",
   "toc_cell": false,
   "toc_position": {},
   "toc_section_display": true,
   "toc_window_display": false
  }
 },
 "nbformat": 4,
 "nbformat_minor": 4
}
