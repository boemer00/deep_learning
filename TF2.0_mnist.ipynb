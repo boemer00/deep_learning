{
  "nbformat": 4,
  "nbformat_minor": 0,
  "metadata": {
    "colab": {
      "provenance": [],
      "authorship_tag": "ABX9TyPHk8LiCQzomRp90iKFVnka",
      "include_colab_link": true
    },
    "kernelspec": {
      "name": "python3",
      "display_name": "Python 3"
    },
    "language_info": {
      "name": "python"
    }
  },
  "cells": [
    {
      "cell_type": "markdown",
      "metadata": {
        "id": "view-in-github",
        "colab_type": "text"
      },
      "source": [
        "<a href=\"https://colab.research.google.com/github/boemer00/deep_learning/blob/main/TF2.0_mnist.ipynb\" target=\"_parent\"><img src=\"https://colab.research.google.com/assets/colab-badge.svg\" alt=\"Open In Colab\"/></a>"
      ]
    },
    {
      "cell_type": "markdown",
      "source": [
        "## Part 1: Load Data"
      ],
      "metadata": {
        "id": "tZBHhZ4Uf9mN"
      }
    },
    {
      "cell_type": "code",
      "execution_count": 1,
      "metadata": {
        "id": "cL1-5S89f5Ri"
      },
      "outputs": [],
      "source": [
        "import numpy as np\n",
        "import pandas as pd\n",
        "import seaborn as sns\n",
        "import matplotlib.pyplot as plt"
      ]
    },
    {
      "cell_type": "code",
      "source": [
        "from keras.models import Sequential\n",
        "from keras.models import load_model\n",
        "from keras.layers import Dense, Flatten, Dropout\n",
        "from keras.optimizers import SGD\n",
        "from keras.callbacks import LearningRateScheduler"
      ],
      "metadata": {
        "id": "9FhrzBr_jKJR"
      },
      "execution_count": 23,
      "outputs": []
    },
    {
      "cell_type": "code",
      "source": [
        "from tensorflow.keras import datasets\n",
        "\n",
        "(X_train, y_train), (X_test, y_test) = datasets.mnist.load_data()\n",
        "\n",
        "assert X_train.shape == (60000, 28, 28)  # (N x 28 x 28)\n",
        "assert X_test.shape == (10000, 28, 28)  # (N_test x 28 x 28)\n",
        "assert y_train.shape == (60000,)  # (N)\n",
        "assert y_test.shape == (10000,)  # (N_test)"
      ],
      "metadata": {
        "colab": {
          "base_uri": "https://localhost:8080/"
        },
        "id": "_zzbI0dmgFrG",
        "outputId": "2cac278f-691b-42cd-e3e7-251eccef2e1e"
      },
      "execution_count": 3,
      "outputs": [
        {
          "output_type": "stream",
          "name": "stdout",
          "text": [
            "Downloading data from https://storage.googleapis.com/tensorflow/tf-keras-datasets/mnist.npz\n",
            "11490434/11490434 [==============================] - 0s 0us/step\n"
          ]
        }
      ]
    },
    {
      "cell_type": "code",
      "source": [
        "# Define the number of images to visualize in the grid\n",
        "num_images_to_visualize = 4\n",
        "\n",
        "# Create a 2x2 grid to display the images\n",
        "fig, axes = plt.subplots(2, 2, figsize=(2, 2))\n",
        "\n",
        "# Visualize the images\n",
        "for i in range(num_images_to_visualize):\n",
        "    # Get the row and column indices for the current image\n",
        "    row = i // 2\n",
        "    col = i % 2\n",
        "\n",
        "    # Plot the image in the corresponding subplot\n",
        "    axes[row, col].imshow(X_train[i], cmap='gray')\n",
        "    axes[row, col].set_title(f\"Label: {y_train[i]}\")  # Display the corresponding label as the title\n",
        "    axes[row, col].axis('off')  # Turn off axis labels\n",
        "\n",
        "# Adjust spacing between subplots for better layout\n",
        "plt.tight_layout()\n",
        "\n",
        "# Show the grid of images\n",
        "plt.show()"
      ],
      "metadata": {
        "colab": {
          "base_uri": "https://localhost:8080/",
          "height": 207
        },
        "id": "QEvtHvAlgQLy",
        "outputId": "e57b6b4a-605b-406e-9478-7d3512d93401"
      },
      "execution_count": 4,
      "outputs": [
        {
          "output_type": "display_data",
          "data": {
            "text/plain": [
              "<Figure size 200x200 with 4 Axes>"
            ],
            "image/png": "[encoded data removed]"
          },
          "metadata": {}
        }
      ]
    },
    {
      "cell_type": "markdown",
      "source": [
        "## Part 2: Initialize the Model"
      ],
      "metadata": {
        "id": "Aep-j3b7i_eL"
      }
    },
    {
      "cell_type": "code",
      "source": [
        "def initialize_model():\n",
        "  # architecture\n",
        "  model = Sequential()\n",
        "  model.add(Flatten(input_shape=(28,28)))\n",
        "  model.add(Dense(128, activation='relu'))\n",
        "  model.add(Dropout(0.2))\n",
        "  model.add(Dense(10, activation='softmax'))\n",
        "\n",
        "  # compile\n",
        "  model.compile(loss='sparse_categorical_crossentropy',\n",
        "                optimizer='adam',\n",
        "                metrics=['accuracy'])\n",
        "\n",
        "  return model"
      ],
      "metadata": {
        "id": "-1hMibYDgRZE"
      },
      "execution_count": 6,
      "outputs": []
    },
    {
      "cell_type": "code",
      "source": [
        "model = initialize_model()\n",
        "\n",
        "history = model.fit(X_train, y_train,\n",
        "                    validation_data=(X_test, y_test),\n",
        "                    epochs=20,\n",
        "                    batch_size=8,\n",
        "                    verbose=1)"
      ],
      "metadata": {
        "colab": {
          "base_uri": "https://localhost:8080/"
        },
        "id": "W2i-mI6qkv_p",
        "outputId": "1836ab54-2383-4d7a-fc07-735572521df6"
      },
      "execution_count": 7,
      "outputs": [
        {
          "output_type": "stream",
          "name": "stdout",
          "text": [
            "Epoch 1/20\n",
            "7500/7500 [==============================] - 33s 4ms/step - loss: 1.8282 - accuracy: 0.7211 - val_loss: 0.6363 - val_accuracy: 0.8201\n",
            "Epoch 2/20\n",
            "7500/7500 [==============================] - 28s 4ms/step - loss: 0.7431 - accuracy: 0.8031 - val_loss: 0.5245 - val_accuracy: 0.8961\n",
            "Epoch 3/20\n",
            "7500/7500 [==============================] - 29s 4ms/step - loss: 0.6573 - accuracy: 0.8321 - val_loss: 0.4728 - val_accuracy: 0.9131\n",
            "Epoch 4/20\n",
            "7500/7500 [==============================] - 28s 4ms/step - loss: 0.6367 - accuracy: 0.8406 - val_loss: 0.4900 - val_accuracy: 0.9034\n",
            "Epoch 5/20\n",
            "7500/7500 [==============================] - 28s 4ms/step - loss: 0.6092 - accuracy: 0.8467 - val_loss: 0.7972 - val_accuracy: 0.8884\n",
            "Epoch 6/20\n",
            "7500/7500 [==============================] - 29s 4ms/step - loss: 0.5930 - accuracy: 0.8503 - val_loss: 0.5857 - val_accuracy: 0.9060\n",
            "Epoch 7/20\n",
            "7500/7500 [==============================] - 27s 4ms/step - loss: 0.6031 - accuracy: 0.8487 - val_loss: 0.4762 - val_accuracy: 0.9160\n",
            "Epoch 8/20\n",
            "7500/7500 [==============================] - 28s 4ms/step - loss: 0.5790 - accuracy: 0.8535 - val_loss: 0.5635 - val_accuracy: 0.9025\n",
            "Epoch 9/20\n",
            "7500/7500 [==============================] - 27s 4ms/step - loss: 0.5848 - accuracy: 0.8553 - val_loss: 0.5081 - val_accuracy: 0.9108\n",
            "Epoch 10/20\n",
            "7500/7500 [==============================] - 27s 4ms/step - loss: 0.5869 - accuracy: 0.8592 - val_loss: 0.5560 - val_accuracy: 0.9151\n",
            "Epoch 11/20\n",
            "7500/7500 [==============================] - 27s 4ms/step - loss: 0.5770 - accuracy: 0.8580 - val_loss: 0.5085 - val_accuracy: 0.9157\n",
            "Epoch 12/20\n",
            "7500/7500 [==============================] - 28s 4ms/step - loss: 0.5608 - accuracy: 0.8577 - val_loss: 0.6113 - val_accuracy: 0.9162\n",
            "Epoch 13/20\n",
            "7500/7500 [==============================] - 27s 4ms/step - loss: 0.5700 - accuracy: 0.8595 - val_loss: 0.5721 - val_accuracy: 0.9046\n",
            "Epoch 14/20\n",
            "7500/7500 [==============================] - 27s 4ms/step - loss: 0.5848 - accuracy: 0.8600 - val_loss: 0.5507 - val_accuracy: 0.9183\n",
            "Epoch 15/20\n",
            "7500/7500 [==============================] - 27s 4ms/step - loss: 0.5825 - accuracy: 0.8609 - val_loss: 0.6118 - val_accuracy: 0.9061\n",
            "Epoch 16/20\n",
            "7500/7500 [==============================] - 28s 4ms/step - loss: 0.5506 - accuracy: 0.8618 - val_loss: 0.6339 - val_accuracy: 0.9191\n",
            "Epoch 17/20\n",
            "7500/7500 [==============================] - 28s 4ms/step - loss: 0.5747 - accuracy: 0.8604 - val_loss: 0.7862 - val_accuracy: 0.8913\n",
            "Epoch 18/20\n",
            "7500/7500 [==============================] - 27s 4ms/step - loss: 0.5597 - accuracy: 0.8613 - val_loss: 0.5948 - val_accuracy: 0.9138\n",
            "Epoch 19/20\n",
            "7500/7500 [==============================] - 30s 4ms/step - loss: 0.5522 - accuracy: 0.8619 - val_loss: 0.5511 - val_accuracy: 0.9045\n",
            "Epoch 20/20\n",
            "7500/7500 [==============================] - 28s 4ms/step - loss: 0.5566 - accuracy: 0.8608 - val_loss: 0.5875 - val_accuracy: 0.9101\n"
          ]
        }
      ]
    },
    {
      "cell_type": "code",
      "source": [
        "def plot_loss_accuracy(history, title=None):\n",
        "    fig, ax = plt.subplots(1,2, figsize=(15,6))\n",
        "\n",
        "    # --- LOSS ---\n",
        "\n",
        "    ax[0].plot(history.history['loss'])\n",
        "    ax[0].plot(history.history['val_loss'])\n",
        "\n",
        "    ax[0].set_title('Model loss')\n",
        "    ax[0].set_ylabel('Loss')\n",
        "    ax[0].set_xlabel('Epoch')\n",
        "\n",
        "    ax[0].set_ylim((0,3))\n",
        "\n",
        "    ax[0].legend(['Train', 'Test'], loc='best')\n",
        "\n",
        "    ax[0].grid(axis=\"x\",linewidth=0.5)\n",
        "    ax[0].grid(axis=\"y\",linewidth=0.5)\n",
        "\n",
        "    # --- ACCURACY\n",
        "\n",
        "    ax[1].plot(history.history['accuracy'])\n",
        "    ax[1].plot(history.history['val_accuracy'])\n",
        "\n",
        "    ax[1].set_title('Model Accuracy')\n",
        "    ax[1].set_ylabel('Accuracy')\n",
        "    ax[1].set_xlabel('Epoch')\n",
        "\n",
        "    ax[1].legend(['Train', 'Test'], loc='best')\n",
        "\n",
        "    ax[1].set_ylim((0,1))\n",
        "\n",
        "    ax[1].grid(axis=\"x\",linewidth=0.5)\n",
        "    ax[1].grid(axis=\"y\",linewidth=0.5)\n",
        "\n",
        "    if title:\n",
        "        fig.suptitle(title)\n",
        "\n",
        "plot_loss_accuracy(history, title=None)\n",
        ""
      ],
      "metadata": {
        "colab": {
          "base_uri": "https://localhost:8080/",
          "height": 474
        },
        "id": "oZzI-fd-k8G1",
        "outputId": "7b1bc66e-be3f-417f-d0b3-edd5d9abe42b"
      },
      "execution_count": 8,
      "outputs": [
        {
          "output_type": "display_data",
          "data": {
            "text/plain": [
              "<Figure size 1500x600 with 2 Axes>"
            ],
            "image/png": "[encoded data removed]"
          },
          "metadata": {}
        }
      ]
    },
    {
      "cell_type": "markdown",
      "source": [
        "# Part 3: Making Predictions"
      ],
      "metadata": {
        "id": "Enrj6HYJvce7"
      }
    },
    {
      "cell_type": "code",
      "source": [
        "pred = model.predict(X_test)"
      ],
      "metadata": {
        "colab": {
          "base_uri": "https://localhost:8080/"
        },
        "id": "Der7LVM0laaw",
        "outputId": "9973806c-698b-4067-9ec2-8fd0f16b9c64"
      },
      "execution_count": 9,
      "outputs": [
        {
          "output_type": "stream",
          "name": "stdout",
          "text": [
            "313/313 [==============================] - 1s 2ms/step\n"
          ]
        }
      ]
    },
    {
      "cell_type": "code",
      "source": [
        "np.round(pred).flatten()"
      ],
      "metadata": {
        "colab": {
          "base_uri": "https://localhost:8080/"
        },
        "id": "uJ3QvPkivy4k",
        "outputId": "cf9bce2e-b349-45c2-dae2-f8658fec27ee"
      },
      "execution_count": 10,
      "outputs": [
        {
          "output_type": "execute_result",
          "data": {
            "text/plain": [
              "array([0., 0., 0., ..., 0., 0., 0.], dtype=float32)"
            ]
          },
          "metadata": {},
          "execution_count": 10
        }
      ]
    },
    {
      "cell_type": "code",
      "source": [
        "# Calculate the accuracy, compare it to evaluate() output\n",
        "print('Manually calculated accuracy: ', np.mean(pred == y_test))\n",
        "print('Evaluate output: ', model.evaluate(X_test, y_test))\n",
        ""
      ],
      "metadata": {
        "colab": {
          "base_uri": "https://localhost:8080/"
        },
        "id": "QCfroskNv6OC",
        "outputId": "367fa702-fc94-421b-c757-dce94d26fad5"
      },
      "execution_count": 11,
      "outputs": [
        {
          "output_type": "stream",
          "name": "stderr",
          "text": [
            "<ipython-input-11-7ffc107813f7>:2: DeprecationWarning: elementwise comparison failed; this will raise an error in the future.\n",
            "  print('Manually calculated accuracy: ', np.mean(pred == y_test))\n"
          ]
        },
        {
          "output_type": "stream",
          "name": "stdout",
          "text": [
            "Manually calculated accuracy:  0.0\n",
            "313/313 [==============================] - 2s 4ms/step - loss: 0.5875 - accuracy: 0.9101\n",
            "Evaluate output:  [0.5874531269073486, 0.910099983215332]\n"
          ]
        }
      ]
    },
    {
      "cell_type": "code",
      "source": [
        "# Evaluation\n",
        "results_train = model.evaluate(X_train, y_train, verbose = 0)\n",
        "results_test = model.evaluate(X_test, y_test, verbose = 0)\n",
        "\n",
        "\n",
        "# Looking back at what happened during the training phase\n",
        "print(f'The accuracy on the testing set is {results_test[1]:.4f}...')\n",
        "print(f'...whereas the accuracy on the training set is {results_train[1]:.4f}.')"
      ],
      "metadata": {
        "colab": {
          "base_uri": "https://localhost:8080/"
        },
        "id": "VNom_f7Uv97x",
        "outputId": "af4ba1a5-0ee5-4646-ce58-1478d2097943"
      },
      "execution_count": 15,
      "outputs": [
        {
          "output_type": "stream",
          "name": "stdout",
          "text": [
            "The accuracy on the testing set is 0.9101...\n",
            "...whereas the accuracy on the training set is 0.9197.\n"
          ]
        }
      ]
    },
    {
      "cell_type": "markdown",
      "source": [
        "### Part 4: Saving the Model"
      ],
      "metadata": {
        "id": "gJip0GY3weuE"
      }
    },
    {
      "cell_type": "code",
      "source": [
        "model.save('linearclassifier_mnist.h5')\n",
        "\n",
        "!ls -lh"
      ],
      "metadata": {
        "colab": {
          "base_uri": "https://localhost:8080/"
        },
        "id": "zCR302gtwL-n",
        "outputId": "de507825-90b7-4624-c649-a5af2cbfa77d"
      },
      "execution_count": 16,
      "outputs": [
        {
          "output_type": "stream",
          "name": "stdout",
          "text": [
            "total 1.2M\n",
            "-rw-r--r-- 1 root root 1.2M Jul 27 19:10 linearclassifier_mnist.h5\n",
            "drwxr-xr-x 1 root root 4.0K Jul 26 13:33 sample_data\n"
          ]
        }
      ]
    },
    {
      "cell_type": "code",
      "source": [
        "from keras.models import load_model\n",
        "\n",
        "# Load the model & check if it still works\n",
        "model = load_model('linearclassifier_mnist.h5')\n",
        "print(model.layers)\n",
        "model.evaluate(X_test, y_test)"
      ],
      "metadata": {
        "colab": {
          "base_uri": "https://localhost:8080/"
        },
        "id": "hEiRNJj7wmOq",
        "outputId": "4238a915-996a-4303-e3ba-c7071aec56be"
      },
      "execution_count": 27,
      "outputs": [
        {
          "output_type": "stream",
          "name": "stdout",
          "text": [
            "[<keras.layers.reshaping.flatten.Flatten object at 0x783a499509d0>, <keras.layers.core.dense.Dense object at 0x783a49953f70>, <keras.layers.regularization.dropout.Dropout object at 0x783a49951330>, <keras.layers.core.dense.Dense object at 0x783a49951540>]\n",
            "313/313 [==============================] - 1s 2ms/step - loss: 0.5875 - accuracy: 0.9101\n"
          ]
        },
        {
          "output_type": "execute_result",
          "data": {
            "text/plain": [
              "[0.5874531269073486, 0.910099983215332]"
            ]
          },
          "metadata": {},
          "execution_count": 27
        }
      ]
    },
    {
      "cell_type": "code",
      "source": [
        "from google.colab import files\n",
        "files.download('linearclassifier_mnist.h5')"
      ],
      "metadata": {
        "colab": {
          "base_uri": "https://localhost:8080/",
          "height": 17
        },
        "id": "s5-VwKV1wvTn",
        "outputId": "e81d8675-b362-4f9a-8477-055a57ccdde7"
      },
      "execution_count": 29,
      "outputs": [
        {
          "output_type": "display_data",
          "data": {
            "text/plain": [
              "<IPython.core.display.Javascript object>"
            ],
            "application/javascript": [
              "\n",
              "    async function download(id, filename, size) {\n",
              "      if (!google.colab.kernel.accessAllowed) {\n",
              "        return;\n",
              "      }\n",
              "      const div = document.createElement('div');\n",
              "      const label = document.createElement('label');\n",
              "      label.textContent = `Downloading \"${filename}\": `;\n",
              "      div.appendChild(label);\n",
              "      const progress = document.createElement('progress');\n",
              "      progress.max = size;\n",
              "      div.appendChild(progress);\n",
              "      document.body.appendChild(div);\n",
              "\n",
              "      const buffers = [];\n",
              "      let downloaded = 0;\n",
              "\n",
              "      const channel = await google.colab.kernel.comms.open(id);\n",
              "      // Send a message to notify the kernel that we're ready.\n",
              "      channel.send({})\n",
              "\n",
              "      for await (const message of channel.messages) {\n",
              "        // Send a message to notify the kernel that we're ready.\n",
              "        channel.send({})\n",
              "        if (message.buffers) {\n",
              "          for (const buffer of message.buffers) {\n",
              "            buffers.push(buffer);\n",
              "            downloaded += buffer.byteLength;\n",
              "            progress.value = downloaded;\n",
              "          }\n",
              "        }\n",
              "      }\n",
              "      const blob = new Blob(buffers, {type: 'application/binary'});\n",
              "      const a = document.createElement('a');\n",
              "      a.href = window.URL.createObjectURL(blob);\n",
              "      a.download = filename;\n",
              "      div.appendChild(a);\n",
              "      a.click();\n",
              "      div.remove();\n",
              "    }\n",
              "  "
            ]
          },
          "metadata": {}
        },
        {
          "output_type": "display_data",
          "data": {
            "text/plain": [
              "<IPython.core.display.Javascript object>"
            ],
            "application/javascript": [
              "download(\"download_2bcb6825-bd42-4673-a4cf-af69cec75586\", \"linearclassifier_mnist.h5\", 1247864)"
            ]
          },
          "metadata": {}
        }
      ]
    },
    {
      "cell_type": "code",
      "source": [],
      "metadata": {
        "id": "NUoa_qIVx4al"
      },
      "execution_count": null,
      "outputs": []
    }
  ]
}