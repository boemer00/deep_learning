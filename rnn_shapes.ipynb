{
  "nbformat": 4,
  "nbformat_minor": 0,
  "metadata": {
    "colab": {
      "provenance": [],
      "authorship_tag": "ABX9TyO4ApkJizeBOrJ7zzBfLS2x",
      "include_colab_link": true
    },
    "kernelspec": {
      "name": "python3",
      "display_name": "Python 3"
    },
    "language_info": {
      "name": "python"
    }
  },
  "cells": [
    {
      "cell_type": "markdown",
      "metadata": {
        "id": "view-in-github",
        "colab_type": "text"
      },
      "source": [
        "<a href=\"https://colab.research.google.com/github/boemer00/deep_learning/blob/main/rnn_shapes.ipynb\" target=\"_parent\"><img src=\"https://colab.research.google.com/assets/colab-badge.svg\" alt=\"Open In Colab\"/></a>"
      ]
    },
    {
      "cell_type": "code",
      "execution_count": 1,
      "metadata": {
        "id": "CN4HPE7QzXbx"
      },
      "outputs": [],
      "source": [
        "import numpy as np\n",
        "import pandas as pd\n",
        "import matplotlib.pyplot as plt\n",
        "\n",
        "from keras.models import Sequential, Model\n",
        "from keras.layers import Input, SimpleRNN, Dense, Flatten\n",
        "from keras.optimizers import SGD, Adam"
      ]
    },
    {
      "cell_type": "markdown",
      "source": [
        "Things you should automatically know:\n",
        "- **N** = number of samples\n",
        "- **T** = sequence length\n",
        "- **D** = number of input features\n",
        "- **M** = number of hidden units\n",
        "- **K** = number of output units"
      ],
      "metadata": {
        "id": "12agu4FFzpOg"
      }
    },
    {
      "cell_type": "code",
      "source": [
        "# Make some data\n",
        "N = 1\n",
        "T = 10\n",
        "D = 3\n",
        "K = 2\n",
        "X = np.random.randn(N, T, D)\n",
        "\n",
        "M = 5 # number of hidden units"
      ],
      "metadata": {
        "id": "3equft6OziOh"
      },
      "execution_count": 2,
      "outputs": []
    },
    {
      "cell_type": "code",
      "source": [
        "def initialize_model():\n",
        "  model = Sequential()\n",
        "  model.add(Input(shape=(T,D)))\n",
        "  model.add(SimpleRNN(M))\n",
        "  model.add(Dense(K))\n",
        "\n",
        "  return model"
      ],
      "metadata": {
        "id": "a_8iV66xMalu"
      },
      "execution_count": 3,
      "outputs": []
    },
    {
      "cell_type": "code",
      "source": [
        "model = initialize_model()\n",
        "\n",
        "# Get output\n",
        "y_hat = model.predict(X)\n",
        "y_hat"
      ],
      "metadata": {
        "colab": {
          "base_uri": "https://localhost:8080/"
        },
        "id": "l0WAYwXJ6wBH",
        "outputId": "34dbbc96-2d9f-49aa-aa5c-2c30b8a002eb"
      },
      "execution_count": 4,
      "outputs": [
        {
          "output_type": "stream",
          "name": "stdout",
          "text": [
            "1/1 [==============================] - 0s 353ms/step\n"
          ]
        },
        {
          "output_type": "execute_result",
          "data": {
            "text/plain": [
              "array([[ 0.6309167, -0.4028176]], dtype=float32)"
            ]
          },
          "metadata": {},
          "execution_count": 4
        }
      ]
    },
    {
      "cell_type": "code",
      "source": [
        "model.summary()"
      ],
      "metadata": {
        "colab": {
          "base_uri": "https://localhost:8080/"
        },
        "id": "OZT2wHfn6-7i",
        "outputId": "f0a2685a-23f6-4856-c081-d5d012e64510"
      },
      "execution_count": 5,
      "outputs": [
        {
          "output_type": "stream",
          "name": "stdout",
          "text": [
            "Model: \"sequential\"\n",
            "_________________________________________________________________\n",
            " Layer (type)                Output Shape              Param #   \n",
            "=================================================================\n",
            " simple_rnn (SimpleRNN)      (None, 5)                 45        \n",
            "                                                                 \n",
            " dense (Dense)               (None, 2)                 12        \n",
            "                                                                 \n",
            "=================================================================\n",
            "Total params: 57\n",
            "Trainable params: 57\n",
            "Non-trainable params: 0\n",
            "_________________________________________________________________\n"
          ]
        }
      ]
    },
    {
      "cell_type": "code",
      "source": [
        "# Get weights from the SimpleRNN layer\n",
        "Wx, Wh, bh = model.layers[0].get_weights()\n",
        "\n",
        "# Get weights from the Dense layer\n",
        "W0, b0 = model.layers[1].get_weights()"
      ],
      "metadata": {
        "id": "iTcrkt8Y8N3u"
      },
      "execution_count": 6,
      "outputs": []
    },
    {
      "cell_type": "code",
      "source": [
        "print(Wx.shape, Wh.shape, bh.shape)"
      ],
      "metadata": {
        "colab": {
          "base_uri": "https://localhost:8080/"
        },
        "id": "bOZyqs848dLm",
        "outputId": "6faa2e78-827e-4d75-cecc-7d906b2ce21d"
      },
      "execution_count": 7,
      "outputs": [
        {
          "output_type": "stream",
          "name": "stdout",
          "text": [
            "(3, 5) (5, 5) (5,)\n"
          ]
        }
      ]
    },
    {
      "cell_type": "code",
      "source": [
        "# Wx, Wh, bh = model.layers[1].get_weights()\n",
        "# W0, b0 = model.layers[2].get_weights()"
      ],
      "metadata": {
        "id": "iqQ9vjGrKsn7"
      },
      "execution_count": 8,
      "outputs": []
    },
    {
      "cell_type": "markdown",
      "source": [
        "Now, we recreate the function for a Simple RNN:\n",
        "\n",
        "$$\n",
        "h_t = \\tanh(W_{xh}x_t + W_{hh}h_{t-1} + b_h)\n",
        "$$"
      ],
      "metadata": {
        "id": "Ttj4R2y8_u18"
      }
    },
    {
      "cell_type": "code",
      "source": [
        "h_last = np.zeros(M)  # initial hidden state\n",
        "x = X[0]  # the one and only sample\n",
        "y_hats = []  # where we store outputs\n",
        "\n",
        "for t in range(T):\n",
        "  h_t = np.tanh(x[t].dot(Wx) + h_last.dot(Wh) + bh)\n",
        "  y = h_t.dot(W0) + b0\n",
        "  y_hats.append(y)\n",
        "\n",
        "  # important: assign h to h_last\n",
        "  h_last = h_t\n",
        "\n",
        "y_hats[-1]"
      ],
      "metadata": {
        "colab": {
          "base_uri": "https://localhost:8080/"
        },
        "id": "Uvv6v0Bv-0F6",
        "outputId": "bd512db5-e9b7-4605-a83d-1cd064fd0358"
      },
      "execution_count": 9,
      "outputs": [
        {
          "output_type": "execute_result",
          "data": {
            "text/plain": [
              "array([ 0.63091662, -0.40281767])"
            ]
          },
          "metadata": {},
          "execution_count": 9
        }
      ]
    },
    {
      "cell_type": "code",
      "source": [
        "y_hats"
      ],
      "metadata": {
        "colab": {
          "base_uri": "https://localhost:8080/"
        },
        "id": "7BTwe9kB9tDN",
        "outputId": "7d36da91-0570-40e9-c346-b5da7153f4e6"
      },
      "execution_count": 10,
      "outputs": [
        {
          "output_type": "execute_result",
          "data": {
            "text/plain": [
              "[array([ 0.03153414, -0.68965957]),\n",
              " array([-0.21473937,  0.57706282]),\n",
              " array([-0.12497138,  0.2288551 ]),\n",
              " array([-0.58892546,  0.78484788]),\n",
              " array([ 0.41536293, -0.6829869 ]),\n",
              " array([ 0.66542818, -0.16764368]),\n",
              " array([-0.79782581,  0.14309699]),\n",
              " array([-0.79588051,  0.59549681]),\n",
              " array([-0.03186292,  0.01524419]),\n",
              " array([ 0.63091662, -0.40281767])]"
            ]
          },
          "metadata": {},
          "execution_count": 10
        }
      ]
    },
    {
      "cell_type": "code",
      "source": [],
      "metadata": {
        "id": "vE8JvA0wLbB7"
      },
      "execution_count": 10,
      "outputs": []
    }
  ]
}