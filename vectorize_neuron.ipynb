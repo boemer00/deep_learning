{
  "nbformat": 4,
  "nbformat_minor": 0,
  "metadata": {
    "colab": {
      "provenance": [],
      "authorship_tag": "ABX9TyMyl9OrbJO+B8ACeG06wF3P",
      "include_colab_link": true
    },
    "kernelspec": {
      "name": "python3",
      "display_name": "Python 3"
    },
    "language_info": {
      "name": "python"
    }
  },
  "cells": [
    {
      "cell_type": "markdown",
      "metadata": {
        "id": "view-in-github",
        "colab_type": "text"
      },
      "source": [
        "<a href=\"https://colab.research.google.com/github/boemer00/deep_learning/blob/main/vectorize_neuron.ipynb\" target=\"_parent\"><img src=\"https://colab.research.google.com/assets/colab-badge.svg\" alt=\"Open In Colab\"/></a>"
      ]
    },
    {
      "cell_type": "code",
      "execution_count": 10,
      "metadata": {
        "colab": {
          "base_uri": "https://localhost:8080/"
        },
        "id": "ONBPe2IJZnQv",
        "outputId": "6fd79e4e-a105-4b3a-d5ad-8ca92f0ddf26"
      },
      "outputs": [
        {
          "output_type": "stream",
          "name": "stdout",
          "text": [
            "(3, 2)\n",
            "\n",
            "(3, 1)\n",
            "\n",
            "(2, 1)\n",
            "\n",
            "Step 1: Transpose W\n",
            "[[1 3 5]\n",
            " [2 4 6]]\n",
            "\n",
            "Step 2: Matrix multiplication\n",
            "[[31]\n",
            " [40]]\n",
            "\n",
            "Step 3: Adding bias\n",
            "[[32]\n",
            " [42]]\n",
            "\n",
            "Step 4: Applying the activation function (sigmoid)\n",
            "[[1.]\n",
            " [1.]]\n"
          ]
        }
      ],
      "source": [
        "import numpy as np\n",
        "\n",
        "# Example values\n",
        "D = 3\n",
        "M = 2\n",
        "\n",
        "W = np.array([[1, 2], [3, 4], [5, 6]])\n",
        "x = np.array([[2], [3], [4]])\n",
        "b = np.array([[1], [2]])\n",
        "\n",
        "# Step 1: Transpose W\n",
        "W_T = np.transpose(W)\n",
        "\n",
        "# Step 2: Matrix multiplication\n",
        "W_T_x = np.dot(W_T, x)\n",
        "\n",
        "# Step 3: Adding bias\n",
        "W_T_x_b = W_T_x + b\n",
        "\n",
        "# Step 4: Applying the activation function (sigmoid)\n",
        "def sigmoid(x):\n",
        "    return 1 / (1 + np.exp(-x))\n",
        "\n",
        "z = sigmoid(W_T_x_b)\n",
        "\n",
        "print(W.shape)\n",
        "print()\n",
        "print(x.shape)\n",
        "print()\n",
        "print(b.shape)\n",
        "print()\n",
        "\n",
        "print(\"Step 1: Transpose W\")\n",
        "print(W_T)\n",
        "print()\n",
        "\n",
        "print(\"Step 2: Matrix multiplication\")\n",
        "print(W_T_x)\n",
        "print()\n",
        "\n",
        "print(\"Step 3: Adding bias\")\n",
        "print(W_T_x_b)\n",
        "print()\n",
        "\n",
        "print(\"Step 4: Applying the activation function (sigmoid)\")\n",
        "print(z)\n"
      ]
    },
    {
      "cell_type": "code",
      "source": [],
      "metadata": {
        "id": "ft8Q1V3BZsqk"
      },
      "execution_count": null,
      "outputs": []
    }
  ]
}