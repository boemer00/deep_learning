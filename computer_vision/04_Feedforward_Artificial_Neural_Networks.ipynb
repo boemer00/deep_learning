{
 "cells": [
  {
   "cell_type": "markdown",
   "id": "3fa838e9",
   "metadata": {
    "heading_collapsed": true
   },
   "source": [
    "# Libraries"
   ]
  },
  {
   "cell_type": "code",
   "execution_count": 1,
   "id": "bf85fa49",
   "metadata": {
    "hidden": true
   },
   "outputs": [],
   "source": [
    "import pandas as pd\n",
    "import numpy as np"
   ]
  },
  {
   "cell_type": "markdown",
   "id": "6c8a1699",
   "metadata": {},
   "source": [
    "# Forward Propagation"
   ]
  },
  {
   "cell_type": "markdown",
   "id": "3cd87387",
   "metadata": {},
   "source": [
    "$$\n",
    "z = \\sigma(\\mathbf{W}^\\text{T} \\mathbf{x} + \\mathbf{b})\n",
    "$$"
   ]
  },
  {
   "cell_type": "code",
   "execution_count": 12,
   "id": "0da1fa31",
   "metadata": {},
   "outputs": [
    {
     "data": {
      "text/plain": [
       "array([[0.79628357],\n",
       "       [0.76315865],\n",
       "       [0.74388715]])"
      ]
     },
     "execution_count": 12,
     "metadata": {},
     "output_type": "execute_result"
    }
   ],
   "source": [
    "# Activation function\n",
    "def sigmoid(x):\n",
    "    return 1 / (1 + np.exp(-x))\n",
    "\n",
    "# Dimensions\n",
    "D = 4 \n",
    "M = 3  \n",
    "\n",
    "# Synthetic dataset\n",
    "x = np.random.rand(D, 1)  # column vector of size D\n",
    "W = np.random.rand(D, M)  # matrix of size DxM\n",
    "b = np.random.rand(M, 1)  # a vector of size M\n",
    "\n",
    "# Vectorized computation\n",
    "z = sigmoid(W.T @ x + b)  # element-wise operation\n",
    "\n",
    "# Now z is your output vector\n",
    "z"
   ]
  },
  {
   "cell_type": "markdown",
   "id": "ea976c93",
   "metadata": {},
   "source": [
    "# The Geometric Form"
   ]
  },
  {
   "cell_type": "markdown",
   "id": "8d9fe329",
   "metadata": {},
   "source": [
    "A linear boundary takes the form of:\n",
    "\n",
    "$$\n",
    "\\mathbf{W}^\\text{T} \\mathbf{x} + \\mathbf{b}\n",
    "$$"
   ]
  },
  {
   "cell_type": "markdown",
   "id": "afddd98f",
   "metadata": {},
   "source": [
    "A (2-layer) neural network boundary takes the form of:\n",
    "\n",
    "$$\n",
    "\\mathbf{W}^{(2)\\text{T}} \\sigma(\\mathbf{W}^{(1)\\text{T}} \\mathbf{x} + \\mathbf{b}^{(1)}) + \\mathbf{b}^{(2)}\n",
    "$$"
   ]
  },
  {
   "cell_type": "code",
   "execution_count": 13,
   "id": "36d34af8",
   "metadata": {},
   "outputs": [],
   "source": [
    "def sigmoid(x):\n",
    "    return 1 / (1 + np.exp(-x))"
   ]
  },
  {
   "cell_type": "code",
   "execution_count": 20,
   "id": "56c681fb",
   "metadata": {},
   "outputs": [
    {
     "data": {
      "text/plain": [
       "array([[2.02125455],\n",
       "       [2.86643055],\n",
       "       [1.82947088]])"
      ]
     },
     "execution_count": 20,
     "metadata": {},
     "output_type": "execute_result"
    }
   ],
   "source": [
    "D = 4   # input size vector\n",
    "M1 = 5  # size of first layer\n",
    "M2 = 3  # size of second layer\n",
    "\n",
    "W1 = np.random.rand(D, M1)   # weights for first layer\n",
    "b1 = np.random.rand(M1, 1)   # biases for first layer\n",
    "\n",
    "W2 = np.random.rand(M1, M2)  # weights for second layer\n",
    "b2 = np.random.rand(M2, 1)  # biases for second layer\n",
    "\n",
    "x = np.random.rand(D, 1)  # create an input size vector x\n",
    "\n",
    "z1 = sigmoid(W1.T @ x + b1)  # forward pass through the first layer\n",
    "\n",
    "z2 = W2.T @ z1 + b2  # forward pass through the second layer\n",
    "z2"
   ]
  },
  {
   "cell_type": "markdown",
   "id": "4a3fe02a",
   "metadata": {},
   "source": [
    "# Activation Functions"
   ]
  },
  {
   "cell_type": "markdown",
   "id": "5d7e70f2",
   "metadata": {},
   "source": [
    "Activation functions makes neural network's decision boundary non-linear.\n",
    "\n",
    "**Standardization**\n",
    "\n",
    "- we don't want inputs with extremely different ranges.\n",
    "\n",
    "- we prefer inputs centred around 0 and approximately around the same range.\n",
    "\n",
    "- however, the sigmoid outputs goes between 0-1, centre = 0.5\n",
    "\n",
    "- the hyperbolic tangent (tanh) solves this with range between -1 and +1:"
   ]
  },
  {
   "cell_type": "markdown",
   "id": "a17bf28c",
   "metadata": {},
   "source": [
    "$$\n",
    "\\tanh(x) = \\frac{\\sinh(x)}{\\cosh(x)} = \\frac{{\\exp(2a) - 1}}{{\\exp(2a) + 1}}\n",
    "$$"
   ]
  },
  {
   "cell_type": "markdown",
   "id": "93462692",
   "metadata": {},
   "source": [
    "However, both the sigmoid and the tanh suffer from the vanishing gradient problem. \n",
    "\n",
    "The vanishing gradient problem occurs when repeatedly multiplying the derivative of the sigmoid activation function in deep neural networks causes the gradients to become extremely small, leading to slow or stalled learning during backpropagation."
   ]
  },
  {
   "cell_type": "markdown",
   "id": "66cad264",
   "metadata": {},
   "source": [
    "The Rectified Linear Unit (**ReLU**) activation function transforms its input to zero if it's negative; otherwise, it passes the input value unchanged.\n",
    "\n",
    "$$\n",
    "f(x) = \\max(0, x)\n",
    "$$"
   ]
  },
  {
   "cell_type": "markdown",
   "id": "e5272060",
   "metadata": {},
   "source": [
    "# How to Represent Images"
   ]
  },
  {
   "cell_type": "code",
   "execution_count": null,
   "id": "9395633e",
   "metadata": {},
   "outputs": [],
   "source": []
  },
  {
   "cell_type": "code",
   "execution_count": null,
   "id": "bbf2f998",
   "metadata": {},
   "outputs": [],
   "source": []
  },
  {
   "cell_type": "code",
   "execution_count": null,
   "id": "932b7356",
   "metadata": {},
   "outputs": [],
   "source": []
  },
  {
   "cell_type": "code",
   "execution_count": null,
   "id": "e458e853",
   "metadata": {},
   "outputs": [],
   "source": []
  },
  {
   "cell_type": "code",
   "execution_count": null,
   "id": "aa0272ea",
   "metadata": {},
   "outputs": [],
   "source": []
  }
 ],
 "metadata": {
  "kernelspec": {
   "display_name": "Python 3 (ipykernel)",
   "language": "python",
   "name": "python3"
  },
  "language_info": {
   "codemirror_mode": {
    "name": "ipython",
    "version": 3
   },
   "file_extension": ".py",
   "mimetype": "text/x-python",
   "name": "python",
   "nbconvert_exporter": "python",
   "pygments_lexer": "ipython3",
   "version": "3.10.6"
  },
  "toc": {
   "base_numbering": 1,
   "nav_menu": {},
   "number_sections": true,
   "sideBar": true,
   "skip_h1_title": false,
   "title_cell": "Table of Contents",
   "title_sidebar": "Contents",
   "toc_cell": false,
   "toc_position": {},
   "toc_section_display": true,
   "toc_window_display": false
  }
 },
 "nbformat": 4,
 "nbformat_minor": 5
}
