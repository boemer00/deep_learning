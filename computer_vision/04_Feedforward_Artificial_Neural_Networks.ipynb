{
 "cells": [
  {
   "cell_type": "markdown",
   "id": "255c1539",
   "metadata": {
    "heading_collapsed": true
   },
   "source": [
    "# Libraries"
   ]
  },
  {
   "cell_type": "code",
   "execution_count": 42,
   "id": "19571a9f",
   "metadata": {
    "hidden": true
   },
   "outputs": [],
   "source": [
    "import pandas as pd\n",
    "import numpy as np\n",
    "import matplotlib.pyplot as plt\n",
    "import seaborn as sns"
   ]
  },
  {
   "cell_type": "markdown",
   "id": "638fb17d",
   "metadata": {
    "heading_collapsed": true
   },
   "source": [
    "# Forward Propagation"
   ]
  },
  {
   "cell_type": "markdown",
   "id": "6c0d2ff5",
   "metadata": {
    "hidden": true
   },
   "source": [
    "$$\n",
    "z = \\sigma(\\mathbf{W}^\\text{T} \\mathbf{x} + \\mathbf{b})\n",
    "$$"
   ]
  },
  {
   "cell_type": "code",
   "execution_count": 12,
   "id": "179657a9",
   "metadata": {
    "hidden": true
   },
   "outputs": [
    {
     "data": {
      "text/plain": [
       "array([[0.79628357],\n",
       "       [0.76315865],\n",
       "       [0.74388715]])"
      ]
     },
     "execution_count": 12,
     "metadata": {},
     "output_type": "execute_result"
    }
   ],
   "source": [
    "# Activation function\n",
    "def sigmoid(x):\n",
    "    return 1 / (1 + np.exp(-x))\n",
    "\n",
    "# Dimensions\n",
    "D = 4 \n",
    "M = 3  \n",
    "\n",
    "# Synthetic dataset\n",
    "x = np.random.rand(D, 1)  # column vector of size D\n",
    "W = np.random.rand(D, M)  # matrix of size DxM\n",
    "b = np.random.rand(M, 1)  # a vector of size M\n",
    "\n",
    "# Vectorized computation\n",
    "z = sigmoid(W.T @ x + b)  # element-wise operation\n",
    "\n",
    "# Now z is your output vector\n",
    "z"
   ]
  },
  {
   "cell_type": "markdown",
   "id": "538dd28f",
   "metadata": {
    "heading_collapsed": true
   },
   "source": [
    "# The Geometric Form"
   ]
  },
  {
   "cell_type": "markdown",
   "id": "bbef9e22",
   "metadata": {
    "hidden": true
   },
   "source": [
    "A linear boundary takes the form of:\n",
    "\n",
    "$$\n",
    "\\mathbf{W}^\\text{T} \\mathbf{x} + \\mathbf{b}\n",
    "$$"
   ]
  },
  {
   "cell_type": "markdown",
   "id": "550e35ed",
   "metadata": {
    "hidden": true
   },
   "source": [
    "A (2-layer) neural network boundary takes the form of:\n",
    "\n",
    "$$\n",
    "\\mathbf{W}^{(2)\\text{T}} \\sigma(\\mathbf{W}^{(1)\\text{T}} \\mathbf{x} + \\mathbf{b}^{(1)}) + \\mathbf{b}^{(2)}\n",
    "$$"
   ]
  },
  {
   "cell_type": "code",
   "execution_count": 13,
   "id": "83299ca6",
   "metadata": {
    "hidden": true
   },
   "outputs": [],
   "source": [
    "def sigmoid(x):\n",
    "    return 1 / (1 + np.exp(-x))"
   ]
  },
  {
   "cell_type": "code",
   "execution_count": 20,
   "id": "7339d7eb",
   "metadata": {
    "hidden": true
   },
   "outputs": [
    {
     "data": {
      "text/plain": [
       "array([[2.02125455],\n",
       "       [2.86643055],\n",
       "       [1.82947088]])"
      ]
     },
     "execution_count": 20,
     "metadata": {},
     "output_type": "execute_result"
    }
   ],
   "source": [
    "D = 4   # input size vector\n",
    "M1 = 5  # size of first layer\n",
    "M2 = 3  # size of second layer\n",
    "\n",
    "W1 = np.random.rand(D, M1)   # weights for first layer\n",
    "b1 = np.random.rand(M1, 1)   # biases for first layer\n",
    "\n",
    "W2 = np.random.rand(M1, M2)  # weights for second layer\n",
    "b2 = np.random.rand(M2, 1)  # biases for second layer\n",
    "\n",
    "x = np.random.rand(D, 1)  # create an input size vector x\n",
    "\n",
    "z1 = sigmoid(W1.T @ x + b1)  # forward pass through the first layer\n",
    "\n",
    "z2 = W2.T @ z1 + b2  # forward pass through the second layer\n",
    "z2"
   ]
  },
  {
   "cell_type": "markdown",
   "id": "20abbed7",
   "metadata": {
    "heading_collapsed": true
   },
   "source": [
    "# Activation Functions"
   ]
  },
  {
   "cell_type": "markdown",
   "id": "207a3adf",
   "metadata": {
    "hidden": true
   },
   "source": [
    "Activation functions makes neural network's decision boundary non-linear.\n",
    "\n",
    "**Standardization**\n",
    "\n",
    "- we don't want inputs with extremely different ranges.\n",
    "\n",
    "- we prefer inputs centred around 0 and approximately around the same range.\n",
    "\n",
    "- however, the sigmoid outputs goes between 0-1, centre = 0.5\n",
    "\n",
    "- the hyperbolic tangent (tanh) solves this with range between -1 and +1:"
   ]
  },
  {
   "cell_type": "markdown",
   "id": "3e6006f4",
   "metadata": {
    "hidden": true
   },
   "source": [
    "$$\n",
    "\\tanh(x) = \\frac{\\sinh(x)}{\\cosh(x)} = \\frac{{\\exp(2a) - 1}}{{\\exp(2a) + 1}}\n",
    "$$"
   ]
  },
  {
   "cell_type": "markdown",
   "id": "175866dc",
   "metadata": {
    "hidden": true
   },
   "source": [
    "However, both the sigmoid and the tanh suffer from the vanishing gradient problem. \n",
    "\n",
    "The vanishing gradient problem occurs when repeatedly multiplying the derivative of the sigmoid activation function in deep neural networks causes the gradients to become extremely small, leading to slow or stalled learning during backpropagation."
   ]
  },
  {
   "cell_type": "markdown",
   "id": "97725dbf",
   "metadata": {
    "hidden": true
   },
   "source": [
    "The Rectified Linear Unit (**ReLU**) activation function transforms its input to zero if it's negative; otherwise, it passes the input value unchanged.\n",
    "\n",
    "$$\n",
    "f(x) = \\max(0, x)\n",
    "$$"
   ]
  },
  {
   "cell_type": "markdown",
   "id": "26e3de3c",
   "metadata": {
    "heading_collapsed": true
   },
   "source": [
    "# How to Represent Images"
   ]
  },
  {
   "cell_type": "code",
   "execution_count": 1,
   "id": "bda5959c",
   "metadata": {
    "hidden": true
   },
   "outputs": [],
   "source": [
    "# We need 3 dimensions: height, width, colour\n",
    "# A(i,j,k)\n",
    "# row, column, colour_channel"
   ]
  },
  {
   "cell_type": "markdown",
   "id": "27d1c82d",
   "metadata": {
    "heading_collapsed": true,
    "hidden": true
   },
   "source": [
    "## Quantization"
   ]
  },
  {
   "cell_type": "markdown",
   "id": "2bc2bd72",
   "metadata": {
    "hidden": true
   },
   "source": [
    "**Quantization** is the process of mapping continuous data, such as pixel values in an image, to a limited set of discrete values, typically in a fixed range, to reduce data storage or processing requirements. It helps in compressing and representing visual information more efficiently.\n",
    "\n",
    "- 8 bits = 1 byte\n",
    "\n",
    "- 2^8 = 256 possible values [0,255].\n",
    "\n",
    "- So, 2^8 x 2^8 x 2^8 = 16.8 million possible colours.\n",
    "\n",
    "\n",
    "How much space does a 500x500 image take up?\n",
    "- 500 x 500 x 3 x 8 = 6 million bits (/8 = 750k bytes)"
   ]
  },
  {
   "cell_type": "markdown",
   "id": "8f5c031f",
   "metadata": {
    "heading_collapsed": true,
    "hidden": true
   },
   "source": [
    "## VGG (Visual Geometry Group)"
   ]
  },
  {
   "cell_type": "markdown",
   "id": "52f5eb9a",
   "metadata": {
    "hidden": true
   },
   "source": [
    "- Deep convolutional neural network architecture.\n",
    "\n",
    "\n",
    "- Known for its simplicity with 16 or 19 weight layers.\n",
    "\n",
    "\n",
    "- Effective for image classification tasks.\n",
    "\n",
    "\n",
    "- Utilizes 3x3 convolutional layers extensively.\n",
    "\n",
    "\n",
    "In TensorFlow, using `tf.keras.applications.vgg16.preprocess_input` is crucial when using VGG because it preprocesses input images to ensure they match the preprocessing applied during VGG model training. This is because VGG training images were not centred around zero but still within a range of 256."
   ]
  },
  {
   "cell_type": "markdown",
   "id": "40e5a67d",
   "metadata": {
    "heading_collapsed": true,
    "hidden": true
   },
   "source": [
    "## Flattening"
   ]
  },
  {
   "cell_type": "markdown",
   "id": "7887dc7e",
   "metadata": {
    "hidden": true
   },
   "source": [
    "Flattening is the process of converting an image into a vector.\n",
    "`Flatten()`. This allows us to store images into an NxD array."
   ]
  },
  {
   "cell_type": "markdown",
   "id": "31992445",
   "metadata": {},
   "source": [
    "# Code Preparation (ANN)"
   ]
  },
  {
   "cell_type": "markdown",
   "id": "e3e17719",
   "metadata": {},
   "source": [
    "**Pseudocode**\n",
    "\n",
    "- load the data (mnist / multiclass)\n",
    "- build the model (sequential dense layers)\n",
    "- train the model\n",
    "- evaluate the model\n",
    "- make predictions"
   ]
  },
  {
   "cell_type": "markdown",
   "id": "fcc14aa0",
   "metadata": {},
   "source": [
    "## Load data"
   ]
  },
  {
   "cell_type": "markdown",
   "id": "09892ac8",
   "metadata": {},
   "source": [
    "- each image is 28 x 28 = 784 pixels (grayscale)"
   ]
  },
  {
   "cell_type": "code",
   "execution_count": 62,
   "id": "5e5d021d",
   "metadata": {},
   "outputs": [],
   "source": [
    "from keras.datasets import mnist\n",
    "\n",
    "(x_train, y_train), (x_test, y_test) = mnist.load_data()"
   ]
  },
  {
   "cell_type": "markdown",
   "id": "22f96591",
   "metadata": {},
   "source": [
    "- X_train: (60000, 28, 28)\n",
    "- X_test: (10000, 28, 28)\n",
    "- y_train: (60000,)\n",
    "- y_test: (10000,)"
   ]
  },
  {
   "cell_type": "code",
   "execution_count": 63,
   "id": "4a06ecc7",
   "metadata": {},
   "outputs": [
    {
     "name": "stdout",
     "output_type": "stream",
     "text": [
      "x_train: (60000, 28, 28)\n"
     ]
    }
   ],
   "source": [
    "x_train, x_test = x_train / 255.0, x_test / 255.0\n",
    "\n",
    "print(f'x_train: {x_train.shape}')"
   ]
  },
  {
   "cell_type": "markdown",
   "id": "a9fb6a72",
   "metadata": {},
   "source": [
    "## Build the model"
   ]
  },
  {
   "cell_type": "code",
   "execution_count": 64,
   "id": "b94a9abd",
   "metadata": {},
   "outputs": [],
   "source": [
    "from keras.models import Sequential\n",
    "from keras.layers import Dense, Dropout, Flatten\n",
    "\n",
    "model = Sequential()\n",
    "model.add(Flatten(input_shape=(28, 28)))\n",
    "model.add(Dense(128, activation='relu'))\n",
    "model.add(Dropout(0.2))\n",
    "model.add(Dense(10, activation='softmax'))"
   ]
  },
  {
   "cell_type": "markdown",
   "id": "387056f4",
   "metadata": {},
   "source": [
    "- start with flatten and input shape\n",
    "- the number 128 was selected based on previous experience (but random search is an option)\n",
    "\n",
    "A dense layer, also known as a fully connected layer, is a fundamental building block in neural networks. It's called \"dense\" because every neuron in the layer is connected to every neuron in the previous layer.\n",
    "\n",
    "In practical terms, a dense layer performs two main operations:\n",
    "\n",
    "- **Linear Transformation**: Each neuron in the layer takes input from all neurons in the previous layer, multiplies those inputs by weights (one weight for each input connection), and sums them up. This step can be represented as output = (input * weights) + bias.\n",
    "\n",
    "\n",
    "- **Activation Function**: After the linear transformation, the result is passed through an activation function (e.g., ReLU, sigmoid) to introduce non-linearity into the network. This step helps the network learn complex patterns and relationships in the data."
   ]
  },
  {
   "cell_type": "markdown",
   "id": "5b76740a",
   "metadata": {},
   "source": [
    "## Train the model"
   ]
  },
  {
   "cell_type": "markdown",
   "id": "04c1401e",
   "metadata": {},
   "source": [
    "- **Handling Labels**:\n",
    "    - **Cross-Entropy**: Needs labels to be in a more complex, spread-out format (one-hot encoded).\n",
    "    \n",
    "    - **Sparse Categorical Cross-Entropy**: Uses simpler numeric labels, saving memory.\n",
    "\n",
    "\n",
    "- **Suitability**:\n",
    "    - **Cross-Entropy**: Better for problems with fewer classes due to its label format.\n",
    "    \n",
    "    - **Sparse Categorical Cross-Entropy**: Ideal for situations with many classes, as it's more memory-efficient."
   ]
  },
  {
   "cell_type": "code",
   "execution_count": 65,
   "id": "458fe04b",
   "metadata": {},
   "outputs": [],
   "source": [
    "model.compile(optimizer='adam',\n",
    "             loss='sparse_categorical_crossentropy',\n",
    "             metrics=['accuracy'])"
   ]
  },
  {
   "cell_type": "code",
   "execution_count": 66,
   "id": "4c8b9776",
   "metadata": {},
   "outputs": [
    {
     "name": "stdout",
     "output_type": "stream",
     "text": [
      "Epoch 1/10\n",
      "1875/1875 [==============================] - 5s 2ms/step - loss: 0.2970 - accuracy: 0.9143 - val_loss: 0.1387 - val_accuracy: 0.9592\n",
      "Epoch 2/10\n",
      "1875/1875 [==============================] - 4s 2ms/step - loss: 0.1411 - accuracy: 0.9574 - val_loss: 0.1070 - val_accuracy: 0.9670\n",
      "Epoch 3/10\n",
      "1875/1875 [==============================] - 4s 2ms/step - loss: 0.1047 - accuracy: 0.9679 - val_loss: 0.0876 - val_accuracy: 0.9726\n",
      "Epoch 4/10\n",
      "1875/1875 [==============================] - 4s 2ms/step - loss: 0.0857 - accuracy: 0.9734 - val_loss: 0.0784 - val_accuracy: 0.9769\n",
      "Epoch 5/10\n",
      "1875/1875 [==============================] - 4s 2ms/step - loss: 0.0736 - accuracy: 0.9768 - val_loss: 0.0746 - val_accuracy: 0.9776\n",
      "Epoch 6/10\n",
      "1875/1875 [==============================] - 4s 2ms/step - loss: 0.0640 - accuracy: 0.9793 - val_loss: 0.0789 - val_accuracy: 0.9771\n",
      "Epoch 7/10\n",
      "1875/1875 [==============================] - 4s 2ms/step - loss: 0.0572 - accuracy: 0.9816 - val_loss: 0.0799 - val_accuracy: 0.9761\n",
      "Epoch 8/10\n",
      "1875/1875 [==============================] - 4s 2ms/step - loss: 0.0519 - accuracy: 0.9834 - val_loss: 0.0648 - val_accuracy: 0.9799\n",
      "Epoch 9/10\n",
      "1875/1875 [==============================] - 4s 2ms/step - loss: 0.0471 - accuracy: 0.9845 - val_loss: 0.0732 - val_accuracy: 0.9792\n",
      "Epoch 10/10\n",
      "1875/1875 [==============================] - 4s 2ms/step - loss: 0.0433 - accuracy: 0.9860 - val_loss: 0.0711 - val_accuracy: 0.9798\n"
     ]
    }
   ],
   "source": [
    "r = model.fit(x_train, y_train,\n",
    "              validation_data=(x_test, y_test),\n",
    "              epochs=10)"
   ]
  },
  {
   "cell_type": "code",
   "execution_count": 67,
   "id": "ccbbe2b2",
   "metadata": {},
   "outputs": [
    {
     "data": {
      "image/png": "[encoded data removed]",
      "text/plain": [
       "<Figure size 640x480 with 1 Axes>"
      ]
     },
     "metadata": {},
     "output_type": "display_data"
    }
   ],
   "source": [
    "# plot loss per iteration\n",
    "plt.plot(r.history['loss'], label='loss')\n",
    "plt.plot(r.history['val_loss'], label='val_loss')\n",
    "plt.legend();"
   ]
  },
  {
   "cell_type": "code",
   "execution_count": 68,
   "id": "66338885",
   "metadata": {},
   "outputs": [
    {
     "data": {
      "image/png": "[encoded data removed]",
      "text/plain": [
       "<Figure size 640x480 with 1 Axes>"
      ]
     },
     "metadata": {},
     "output_type": "display_data"
    }
   ],
   "source": [
    "# plot accuracy per iteration\n",
    "plt.plot(r.history['accuracy'], label='acc')\n",
    "plt.plot(r.history['val_accuracy'], label='val_acc')\n",
    "plt.legend();"
   ]
  },
  {
   "cell_type": "markdown",
   "id": "5770850f",
   "metadata": {},
   "source": [
    "# Evaluate the model"
   ]
  },
  {
   "cell_type": "code",
   "execution_count": 69,
   "id": "9a959b0a",
   "metadata": {},
   "outputs": [
    {
     "name": "stdout",
     "output_type": "stream",
     "text": [
      "1875/1875 [==============================] - 3s 1ms/step - loss: 0.0173 - accuracy: 0.9950\n"
     ]
    },
    {
     "data": {
      "text/plain": [
       "[0.01726585626602173, 0.9949833154678345]"
      ]
     },
     "execution_count": 69,
     "metadata": {},
     "output_type": "execute_result"
    }
   ],
   "source": [
    "model.evaluate(x_train, y_train)"
   ]
  },
  {
   "cell_type": "code",
   "execution_count": 79,
   "id": "70300cef",
   "metadata": {},
   "outputs": [
    {
     "name": "stdout",
     "output_type": "stream",
     "text": [
      "313/313 [==============================] - 0s 1ms/step\n",
      "Confusion matrix, without normalization\n",
      "[[ 972    0    2    0    1    1    2    1    1    0]\n",
      " [   0 1125    3    1    0    0    2    1    3    0]\n",
      " [   3    2 1011    2    2    0    2    5    5    0]\n",
      " [   0    0    2  992    0    4    0    6    4    2]\n",
      " [   1    1    3    0  955    0    7    1    0   14]\n",
      " [   3    0    0   12    2  860    5    1    5    4]\n",
      " [   4    3    1    1    1    2  945    1    0    0]\n",
      " [   1    4    8    4    0    0    0 1003    1    7]\n",
      " [   4    1    2    3    1    1    3    5  952    2]\n",
      " [   0    4    0    6    5    0    1    9    1  983]]\n"
     ]
    },
    {
     "data": {
      "image/png": "[encoded data removed]",
      "text/plain": [
       "<Figure size 640x480 with 2 Axes>"
      ]
     },
     "metadata": {},
     "output_type": "display_data"
    }
   ],
   "source": [
    "import numpy as np\n",
    "import matplotlib.pyplot as plt  # Import matplotlib\n",
    "from sklearn.metrics import confusion_matrix\n",
    "import itertools\n",
    "\n",
    "def plot_confusion_matrix(cm, classes,\n",
    "                          normalize=False,\n",
    "                          title='Confusion matrix',\n",
    "                          cmap=plt.cm.Blues):\n",
    "    \"\"\"\n",
    "    This function prints and plots the confusion matrix.\n",
    "    Normalization can be applied by setting `normalize=True`.\n",
    "    \"\"\"\n",
    "    if normalize:\n",
    "        cm = cm.astype('float') / cm.sum(axis=1)[:, np.newaxis]\n",
    "        print(\"Normalized confusion matrix\")\n",
    "    else:\n",
    "        print('Confusion matrix, without normalization')\n",
    "\n",
    "    print(cm)\n",
    "\n",
    "    plt.imshow(cm, interpolation='nearest', cmap=cmap)\n",
    "    plt.title(title)\n",
    "    plt.colorbar()\n",
    "    tick_marks = np.arange(len(classes))\n",
    "    plt.xticks(tick_marks, classes, rotation=45)\n",
    "    plt.yticks(tick_marks, classes)\n",
    "\n",
    "    fmt = '.2f' if normalize else 'd'\n",
    "    thresh = cm.max() / 2.\n",
    "    for i, j in itertools.product(range(cm.shape[0]), range(cm.shape[1])):\n",
    "        plt.text(j, i, format(cm[i, j], fmt),\n",
    "                 horizontalalignment=\"center\",\n",
    "                 color=\"white\" if cm[i, j] > thresh else \"black\")\n",
    "\n",
    "    plt.tight_layout()\n",
    "    plt.ylabel('True label')\n",
    "    plt.xlabel('Predicted label')\n",
    "    plt.show()\n",
    "\n",
    "\n",
    "p_test = model.predict(x_test).argmax(axis=1)  # Ensure this matches your model's output\n",
    "cm = confusion_matrix(y_test, p_test)\n",
    "plot_confusion_matrix(cm, list(range(10)))  # Replace list(range(10)) with actual class names if applicable\n"
   ]
  },
  {
   "cell_type": "code",
   "execution_count": 81,
   "id": "32b18621",
   "metadata": {},
   "outputs": [
    {
     "data": {
      "image/png": "[encoded data removed]",
      "text/plain": [
       "<Figure size 640x480 with 1 Axes>"
      ]
     },
     "metadata": {},
     "output_type": "display_data"
    }
   ],
   "source": [
    "# Show some misclassified examples\n",
    "misclassified_idx = np.where(p_test != y_test)[0]\n",
    "i = np.random.choice(misclassified_idx)\n",
    "plt.imshow(x_test[i], cmap='gray')\n",
    "plt.title(\"True label: %s Predicted: %s\" % (y_test[i], p_test[i]));"
   ]
  },
  {
   "cell_type": "markdown",
   "id": "ea896569",
   "metadata": {},
   "source": [
    "# Predict"
   ]
  },
  {
   "cell_type": "code",
   "execution_count": 77,
   "id": "16db288d",
   "metadata": {},
   "outputs": [
    {
     "name": "stdout",
     "output_type": "stream",
     "text": [
      "313/313 [==============================] - 0s 1ms/step\n"
     ]
    },
    {
     "data": {
      "text/plain": [
       "array([[0.        , 0.        , 0.        , ..., 0.99999994, 0.        ,\n",
       "        0.        ],\n",
       "       [0.        , 0.        , 0.99999994, ..., 0.        , 0.        ,\n",
       "        0.        ],\n",
       "       [0.        , 0.99999994, 0.        , ..., 0.        , 0.        ,\n",
       "        0.        ],\n",
       "       ...,\n",
       "       [0.        , 0.        , 0.        , ..., 0.        , 0.        ,\n",
       "        0.        ],\n",
       "       [0.        , 0.        , 0.        , ..., 0.        , 0.        ,\n",
       "        0.        ],\n",
       "       [0.        , 0.        , 0.        , ..., 0.        , 0.        ,\n",
       "        0.        ]], dtype=float32)"
      ]
     },
     "execution_count": 77,
     "metadata": {},
     "output_type": "execute_result"
    }
   ],
   "source": [
    "model.predict(X_test)"
   ]
  },
  {
   "cell_type": "code",
   "execution_count": null,
   "id": "aec578bd",
   "metadata": {},
   "outputs": [],
   "source": []
  },
  {
   "cell_type": "code",
   "execution_count": null,
   "id": "63ee5e74",
   "metadata": {},
   "outputs": [],
   "source": []
  },
  {
   "cell_type": "code",
   "execution_count": null,
   "id": "4a220b47",
   "metadata": {},
   "outputs": [],
   "source": []
  },
  {
   "cell_type": "code",
   "execution_count": null,
   "id": "1f1c6fa0",
   "metadata": {},
   "outputs": [],
   "source": []
  },
  {
   "cell_type": "code",
   "execution_count": null,
   "id": "5770e3eb",
   "metadata": {},
   "outputs": [],
   "source": []
  }
 ],
 "metadata": {
  "kernelspec": {
   "display_name": "Python 3 (ipykernel)",
   "language": "python",
   "name": "python3"
  },
  "language_info": {
   "codemirror_mode": {
    "name": "ipython",
    "version": 3
   },
   "file_extension": ".py",
   "mimetype": "text/x-python",
   "name": "python",
   "nbconvert_exporter": "python",
   "pygments_lexer": "ipython3",
   "version": "3.10.6"
  },
  "toc": {
   "base_numbering": 1,
   "nav_menu": {},
   "number_sections": true,
   "sideBar": true,
   "skip_h1_title": false,
   "title_cell": "Table of Contents",
   "title_sidebar": "Contents",
   "toc_cell": false,
   "toc_position": {},
   "toc_section_display": true,
   "toc_window_display": false
  }
 },
 "nbformat": 4,
 "nbformat_minor": 5
}
